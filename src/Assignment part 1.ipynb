{
 "cells": [
  {
   "cell_type": "markdown",
   "id": "57662786",
   "metadata": {},
   "source": [
    "Task 1. Predict Cars\n",
    "\n",
    "The data file contains sample data from cars. Your target for this task is to predict the\n",
    "price. The end deliverable should be a jupyter notebook. \n",
    "\n",
    "    • Clean, describe and visualize the data \n",
    "    • Prepare the data for modelling (train/test, encoders etc)\n",
    "    • Model and evaluate, show metrics and graphs. \n",
    "    • Describe your approach at each step."
   ]
  },
  {
   "cell_type": "code",
   "execution_count": 1,
   "id": "cc6f7262",
   "metadata": {},
   "outputs": [],
   "source": [
    "import pandas as pd\n",
    "import numpy as np\n",
    "import matplotlib.pyplot as plt\n",
    "from sklearn.preprocessing import OneHotEncoder, LabelEncoder\n",
    "from sklearn.metrics import r2_score, mean_absolute_error, mean_squared_error\n",
    "from collections import Counter\n",
    "from sklearn.model_selection import train_test_split"
   ]
  },
  {
   "cell_type": "code",
   "execution_count": 2,
   "id": "29e6ce49",
   "metadata": {},
   "outputs": [],
   "source": [
    "data_input = pd.read_csv(\"csv_files/Spotawheel_case_study.csv\")"
   ]
  },
  {
   "cell_type": "code",
   "execution_count": 3,
   "id": "ef700bab",
   "metadata": {},
   "outputs": [
    {
     "data": {
      "text/html": [
       "<div>\n",
       "<style scoped>\n",
       "    .dataframe tbody tr th:only-of-type {\n",
       "        vertical-align: middle;\n",
       "    }\n",
       "\n",
       "    .dataframe tbody tr th {\n",
       "        vertical-align: top;\n",
       "    }\n",
       "\n",
       "    .dataframe thead th {\n",
       "        text-align: right;\n",
       "    }\n",
       "</style>\n",
       "<table border=\"1\" class=\"dataframe\">\n",
       "  <thead>\n",
       "    <tr style=\"text-align: right;\">\n",
       "      <th></th>\n",
       "      <th>Name</th>\n",
       "      <th>Kilometers_Driven</th>\n",
       "      <th>Fuel_Type</th>\n",
       "      <th>Transmission</th>\n",
       "      <th>Owner_Type</th>\n",
       "      <th>Mileage</th>\n",
       "      <th>Engine</th>\n",
       "      <th>Power</th>\n",
       "      <th>Seats</th>\n",
       "      <th>Price</th>\n",
       "      <th>Age</th>\n",
       "    </tr>\n",
       "  </thead>\n",
       "  <tbody>\n",
       "    <tr>\n",
       "      <th>0</th>\n",
       "      <td>Hyundai i10 Era</td>\n",
       "      <td>60000</td>\n",
       "      <td>Petrol</td>\n",
       "      <td>Manual</td>\n",
       "      <td>2</td>\n",
       "      <td>19.81</td>\n",
       "      <td>1086</td>\n",
       "      <td>68.05</td>\n",
       "      <td>5</td>\n",
       "      <td>2650.0</td>\n",
       "      <td>9</td>\n",
       "    </tr>\n",
       "    <tr>\n",
       "      <th>1</th>\n",
       "      <td>Toyota Fortuner 4x2 Manual</td>\n",
       "      <td>73500</td>\n",
       "      <td>Diesel</td>\n",
       "      <td>Manual</td>\n",
       "      <td>1</td>\n",
       "      <td>13.00</td>\n",
       "      <td>2982</td>\n",
       "      <td>168.50</td>\n",
       "      <td>7</td>\n",
       "      <td>22000.0</td>\n",
       "      <td>6</td>\n",
       "    </tr>\n",
       "    <tr>\n",
       "      <th>2</th>\n",
       "      <td>Mercedes-Benz E-Class 230 E AT</td>\n",
       "      <td>28888</td>\n",
       "      <td>Petrol</td>\n",
       "      <td>Automatic</td>\n",
       "      <td>1</td>\n",
       "      <td>10.00</td>\n",
       "      <td>2496</td>\n",
       "      <td>157.70</td>\n",
       "      <td>5</td>\n",
       "      <td>7560.0</td>\n",
       "      <td>12</td>\n",
       "    </tr>\n",
       "    <tr>\n",
       "      <th>3</th>\n",
       "      <td>Volkswagen Polo Petrol Trendline 1.2L</td>\n",
       "      <td>41000</td>\n",
       "      <td>Petrol</td>\n",
       "      <td>Manual</td>\n",
       "      <td>1</td>\n",
       "      <td>16.47</td>\n",
       "      <td>1198</td>\n",
       "      <td>73.90</td>\n",
       "      <td>5</td>\n",
       "      <td>3100.0</td>\n",
       "      <td>9</td>\n",
       "    </tr>\n",
       "    <tr>\n",
       "      <th>4</th>\n",
       "      <td>Land Rover Range Rover Evoque 2.0 TD4 HSE Dynamic</td>\n",
       "      <td>52000</td>\n",
       "      <td>Diesel</td>\n",
       "      <td>Automatic</td>\n",
       "      <td>1</td>\n",
       "      <td>15.68</td>\n",
       "      <td>1999</td>\n",
       "      <td>177.00</td>\n",
       "      <td>5</td>\n",
       "      <td>42000.0</td>\n",
       "      <td>5</td>\n",
       "    </tr>\n",
       "  </tbody>\n",
       "</table>\n",
       "</div>"
      ],
      "text/plain": [
       "                                                Name  Kilometers_Driven  \\\n",
       "0                                    Hyundai i10 Era              60000   \n",
       "1                         Toyota Fortuner 4x2 Manual              73500   \n",
       "2                     Mercedes-Benz E-Class 230 E AT              28888   \n",
       "3              Volkswagen Polo Petrol Trendline 1.2L              41000   \n",
       "4  Land Rover Range Rover Evoque 2.0 TD4 HSE Dynamic              52000   \n",
       "\n",
       "  Fuel_Type Transmission  Owner_Type  Mileage  Engine   Power  Seats    Price  \\\n",
       "0    Petrol       Manual           2    19.81    1086   68.05      5   2650.0   \n",
       "1    Diesel       Manual           1    13.00    2982  168.50      7  22000.0   \n",
       "2    Petrol    Automatic           1    10.00    2496  157.70      5   7560.0   \n",
       "3    Petrol       Manual           1    16.47    1198   73.90      5   3100.0   \n",
       "4    Diesel    Automatic           1    15.68    1999  177.00      5  42000.0   \n",
       "\n",
       "   Age  \n",
       "0    9  \n",
       "1    6  \n",
       "2   12  \n",
       "3    9  \n",
       "4    5  "
      ]
     },
     "execution_count": 3,
     "metadata": {},
     "output_type": "execute_result"
    }
   ],
   "source": [
    "data_input.head()"
   ]
  },
  {
   "cell_type": "markdown",
   "id": "942edf26",
   "metadata": {},
   "source": [
    "The first task that we ought to do is to see the distribution of our labels\n",
    "for possible outliers that could be extracted from our training dataset."
   ]
  },
  {
   "cell_type": "code",
   "execution_count": 4,
   "id": "4ee3707f",
   "metadata": {},
   "outputs": [
    {
     "name": "stdout",
     "output_type": "stream",
     "text": [
      "dataset shape is (4907, 11)\n"
     ]
    }
   ],
   "source": [
    "print(\"dataset shape is\", data_input.shape)"
   ]
  },
  {
   "cell_type": "code",
   "execution_count": 5,
   "id": "d34d2a53",
   "metadata": {},
   "outputs": [],
   "source": [
    "label_name = \"Price\""
   ]
  },
  {
   "cell_type": "code",
   "execution_count": 6,
   "id": "0ccaeebc",
   "metadata": {},
   "outputs": [
    {
     "name": "stdout",
     "output_type": "stream",
     "text": [
      "unique Owner_Type 4\n"
     ]
    }
   ],
   "source": [
    "print(\"unique Owner_Type\",len(data_input.loc[:, \"Owner_Type\"].unique()))"
   ]
  },
  {
   "cell_type": "code",
   "execution_count": 7,
   "id": "abf17bdf",
   "metadata": {},
   "outputs": [
    {
     "name": "stdout",
     "output_type": "stream",
     "text": [
      "unique transmission 2\n"
     ]
    }
   ],
   "source": [
    "print(\"unique transmission\",len(data_input.loc[:, \"Transmission\"].unique()))"
   ]
  },
  {
   "cell_type": "code",
   "execution_count": 8,
   "id": "c8792c3e",
   "metadata": {},
   "outputs": [
    {
     "name": "stdout",
     "output_type": "stream",
     "text": [
      "unique fuel type 4\n"
     ]
    }
   ],
   "source": [
    "print(\"unique fuel type\",len(data_input.loc[:, \"Fuel_Type\"].unique()))"
   ]
  },
  {
   "cell_type": "code",
   "execution_count": 9,
   "id": "3b393aa9",
   "metadata": {},
   "outputs": [],
   "source": [
    "categorical_variables = [\"Fuel_Type\", \"Transmission\", \"Owner_Type\", \"Seats\"]\n",
    "continuous_variables = [\"Kilometers_Driven\", \"Mileage\", \"Power\", \"Engine\"]"
   ]
  },
  {
   "cell_type": "code",
   "execution_count": 10,
   "id": "5e10ef4a",
   "metadata": {},
   "outputs": [],
   "source": [
    "# Check the distribution of the label"
   ]
  },
  {
   "cell_type": "code",
   "execution_count": 11,
   "id": "89342f20",
   "metadata": {},
   "outputs": [
    {
     "data": {
      "text/plain": [
       "<AxesSubplot:>"
      ]
     },
     "execution_count": 11,
     "metadata": {},
     "output_type": "execute_result"
    },
    {
     "data": {
      "image/png": "[encoded data removed]",
      "text/plain": [
       "<Figure size 1440x360 with 1 Axes>"
      ]
     },
     "metadata": {
      "needs_background": "light"
     },
     "output_type": "display_data"
    }
   ],
   "source": [
    "data_input.loc[:, \"Price\"].hist(figsize=(20,5), bins=200)"
   ]
  },
  {
   "cell_type": "markdown",
   "id": "2714c9e1",
   "metadata": {},
   "source": [
    "The distribution is obviously skewed so we it seems rather obvious that we could easily drop some obvious outliers."
   ]
  },
  {
   "cell_type": "code",
   "execution_count": 12,
   "id": "e9f48971",
   "metadata": {},
   "outputs": [
    {
     "data": {
      "text/plain": [
       "<AxesSubplot:>"
      ]
     },
     "execution_count": 12,
     "metadata": {},
     "output_type": "execute_result"
    },
    {
     "data": {
      "image/png": "[encoded data removed]",
      "text/plain": [
       "<Figure size 432x288 with 1 Axes>"
      ]
     },
     "metadata": {
      "needs_background": "light"
     },
     "output_type": "display_data"
    }
   ],
   "source": [
    "data_input.boxplot(column=[label_name])"
   ]
  },
  {
   "cell_type": "code",
   "execution_count": null,
   "id": "c719954f",
   "metadata": {},
   "outputs": [],
   "source": []
  },
  {
   "cell_type": "code",
   "execution_count": 13,
   "id": "a43c31df",
   "metadata": {},
   "outputs": [
    {
     "name": "stdout",
     "output_type": "stream",
     "text": [
      "1661\n"
     ]
    }
   ],
   "source": [
    "# the unique names of the cars are\n",
    "print(len(data_input[\"Name\"].unique()))\n",
    "# if there weren't so many they could actually have proven useful as a feature.\n",
    "# But if we tried to use them, due to the curse of dimentionality we would definately had a serious problem with our model."
   ]
  },
  {
   "cell_type": "markdown",
   "id": "4546aa7e",
   "metadata": {},
   "source": [
    "The way we could actually take advantage of this feature is by extracting the actual brand of the car alone \n",
    "and check if it actually helps the model perform better"
   ]
  },
  {
   "cell_type": "code",
   "execution_count": 14,
   "id": "ecf9f1d6",
   "metadata": {},
   "outputs": [],
   "source": [
    "names = [i.lower().split(\" \") for i in data_input[\"Name\"].unique()]\n",
    "syllabi = [j for i in names for j in i]\n",
    "set_syllabi = set(syllabi)\n",
    "counter_syllabi = Counter(syllabi)\n",
    "counter_syllabi = list(counter_syllabi.items())\n",
    "counter_syllabi = sorted([(i[-1],i[0]) for i in counter_syllabi])"
   ]
  },
  {
   "cell_type": "code",
   "execution_count": 15,
   "id": "37a850dd",
   "metadata": {
    "scrolled": true
   },
   "outputs": [
    {
     "data": {
      "text/plain": [
       "[(270, 'maruti'),\n",
       " (239, 'hyundai'),\n",
       " (162, 'at'),\n",
       " (140, 'honda'),\n",
       " (116, 'tdi'),\n",
       " (107, '1.2'),\n",
       " (106, 'toyota'),\n",
       " (106, 'mercedes-benz'),\n",
       " (99, 'ford'),\n",
       " (95, 'tata'),\n",
       " (95, 'diesel'),\n",
       " (94, 'mahindra'),\n",
       " (93, 'plus'),\n",
       " (89, 'mt'),\n",
       " (78, '1.6'),\n",
       " (77, 'skoda'),\n",
       " (76, 'bmw'),\n",
       " (73, 's'),\n",
       " (71, '1.5'),\n",
       " (66, 'crdi'),\n",
       " (66, '1.4'),\n",
       " (64, 'i20'),\n",
       " (63, 'volkswagen'),\n",
       " (63, 'audi'),\n",
       " (62, '2.0'),\n",
       " (59, 'option'),\n",
       " (58, 'vxi'),\n",
       " (55, 'sx'),\n",
       " (53, 'lxi'),\n",
       " (52, 'swift'),\n",
       " (50, 'series'),\n",
       " (47, 'verna'),\n",
       " (47, 'petrol'),\n",
       " (47, 'city'),\n",
       " (45, 'i10'),\n",
       " (44, 'cdi'),\n",
       " (43, 'sport'),\n",
       " (42, 'edition'),\n",
       " (40, 'rover'),\n",
       " (40, 'bsiii'),\n",
       " (39, 'vx'),\n",
       " (39, 'nissan'),\n",
       " (39, 'innova'),\n",
       " (38, 'titanium'),\n",
       " (38, 'renault'),\n",
       " (38, 'chevrolet'),\n",
       " (37, 'new'),\n",
       " (36, 'zxi'),\n",
       " (36, 'i'),\n",
       " (35, 'v'),\n",
       " (35, 'bsiv'),\n",
       " (35, 'asta'),\n",
       " (35, '200'),\n",
       " (33, 'seater'),\n",
       " (33, 'elegance'),\n",
       " (32, 'sportz'),\n",
       " (32, 'scorpio'),\n",
       " (32, 'r'),\n",
       " (32, 'magna'),\n",
       " (31, 'wagon'),\n",
       " (31, 'e-class'),\n",
       " (30, 'dzire'),\n",
       " (30, 'bs'),\n",
       " (29, 'mpi'),\n",
       " (29, 'highline'),\n",
       " (29, 'figo'),\n",
       " (29, 'c-class'),\n",
       " (29, '7'),\n",
       " (28, 'vdi'),\n",
       " (28, 'grand'),\n",
       " (28, '2.5'),\n",
       " (28, '1.8'),\n",
       " (27, 'premium'),\n",
       " (26, 'rapid'),\n",
       " (26, 'land'),\n",
       " (26, 'ecosport'),\n",
       " (26, 'e'),\n",
       " (25, 'quattro'),\n",
       " (25, 'iv'),\n",
       " (25, 'corolla'),\n",
       " (25, 'alto'),\n",
       " (25, '1.3'),\n",
       " (24, 'zdi'),\n",
       " (24, 'vento'),\n",
       " (24, 'optional'),\n",
       " (24, 'lx'),\n",
       " (24, 'etios'),\n",
       " (24, 'amt'),\n",
       " (23, 'vtvt'),\n",
       " (23, 'abs'),\n",
       " (23, '5'),\n",
       " (23, '3'),\n",
       " (22, 'ls'),\n",
       " (22, 'ciaz'),\n",
       " (21, 'd'),\n",
       " (21, 'c'),\n",
       " (21, 'ambition'),\n",
       " (21, 'amaze'),\n",
       " (21, '4x4'),\n",
       " (21, '2.4'),\n",
       " (20, 'xv'),\n",
       " (20, 'altis'),\n",
       " (20, '4x2'),\n",
       " (19, 'polo'),\n",
       " (19, 'indica'),\n",
       " (19, 'ex'),\n",
       " (19, 'dtec'),\n",
       " (19, 'class'),\n",
       " (19, '35'),\n",
       " (19, '(diesel)'),\n",
       " (18, 'xcent'),\n",
       " (18, 'g'),\n",
       " (18, 'fiesta'),\n",
       " (18, 'baleno'),\n",
       " (18, 'active'),\n",
       " (18, '8'),\n",
       " (18, '2wd'),\n",
       " (17, 'xl'),\n",
       " (17, 'vtec'),\n",
       " (17, 'tdci'),\n",
       " (17, 'rxl'),\n",
       " (17, 'jazz'),\n",
       " (17, 'cvt'),\n",
       " (16, 'quadrajet'),\n",
       " (16, 'mitsubishi'),\n",
       " (16, 'indigo'),\n",
       " (16, 'duster'),\n",
       " (16, 'comfortline'),\n",
       " (16, 'celerio'),\n",
       " (16, 'a4'),\n",
       " (16, '1.0'),\n",
       " (15, 'fiat'),\n",
       " (15, 'creta'),\n",
       " (15, 'alpha'),\n",
       " (15, '2015-2017'),\n",
       " (15, '2.8'),\n",
       " (14, 'zen'),\n",
       " (14, 'xuv500'),\n",
       " (14, 'tsi'),\n",
       " (14, 'trend'),\n",
       " (14, 'technology'),\n",
       " (14, 'superb'),\n",
       " (14, 'revotron'),\n",
       " (14, 'range'),\n",
       " (14, 'octavia'),\n",
       " (14, 'micra'),\n",
       " (14, 'ldi'),\n",
       " (14, 'avantgarde'),\n",
       " (14, 'ambiente'),\n",
       " (14, '4wd'),\n",
       " (14, '3.0'),\n",
       " (14, '1.1'),\n",
       " (13, 'se'),\n",
       " (13, 'safari'),\n",
       " (13, 'lt'),\n",
       " (13, 'laura'),\n",
       " (13, 'kappa'),\n",
       " (13, 'i-vtec'),\n",
       " (13, 'ertiga'),\n",
       " (13, 'endeavour'),\n",
       " (13, 'dual'),\n",
       " (13, 'a6'),\n",
       " (13, '800'),\n",
       " (13, '2009-2013'),\n",
       " (12, 'with'),\n",
       " (12, 'volvo'),\n",
       " (12, 'trendline'),\n",
       " (12, 'tone'),\n",
       " (12, 'sx4'),\n",
       " (12, 'ritz'),\n",
       " (12, 'luxury'),\n",
       " (12, 'limited'),\n",
       " (12, 'gx'),\n",
       " (12, 'gls'),\n",
       " (12, 'ddis'),\n",
       " (12, 'cng'),\n",
       " (12, 'classic'),\n",
       " (12, 'brio'),\n",
       " (12, 'accord'),\n",
       " (12, '2.2'),\n",
       " (12, '1.9'),\n",
       " (11, 'xdrive'),\n",
       " (11, 'vlx'),\n",
       " (11, 'vitara'),\n",
       " (11, 'v2'),\n",
       " (11, 'terrano'),\n",
       " (11, 'style'),\n",
       " (11, 'pajero'),\n",
       " (11, 'mini'),\n",
       " (11, 'hse'),\n",
       " (11, 'fortuner'),\n",
       " (11, 'exi'),\n",
       " (11, 'eon'),\n",
       " (11, 'crysta'),\n",
       " (11, 'cr-v'),\n",
       " (11, 'cooper'),\n",
       " (11, '320d'),\n",
       " (11, '220'),\n",
       " (11, '2015-2019'),\n",
       " (10, 'zx'),\n",
       " (10, 'zeta'),\n",
       " (10, 'xylo'),\n",
       " (10, 'xt'),\n",
       " (10, 'sunny'),\n",
       " (10, 'str'),\n",
       " (10, 'sedan'),\n",
       " (10, 'manza'),\n",
       " (10, 'm'),\n",
       " (10, 'line'),\n",
       " (10, 'cross'),\n",
       " (10, 'bsii'),\n",
       " (10, 'aspire'),\n",
       " (10, '2.0l'),\n",
       " (9, 'q5'),\n",
       " (9, 'porsche'),\n",
       " (9, 'nano'),\n",
       " (9, 'kwid'),\n",
       " (9, 'kuv'),\n",
       " (9, 'jetta'),\n",
       " (9, 'jaguar'),\n",
       " (9, 'emotion'),\n",
       " (9, 'datsun'),\n",
       " (9, 'd4'),\n",
       " (9, 'cgi'),\n",
       " (9, '350'),\n",
       " (9, '20d'),\n",
       " (9, '2011-2015'),\n",
       " (9, '100'),\n",
       " (8, 'x1'),\n",
       " (8, 'std'),\n",
       " (8, 'q7'),\n",
       " (8, 'q3'),\n",
       " (8, 'ps'),\n",
       " (8, 'omni'),\n",
       " (8, 'liva'),\n",
       " (8, 'linea'),\n",
       " (8, 'l'),\n",
       " (8, 'era'),\n",
       " (8, 'elantra'),\n",
       " (8, 'e250'),\n",
       " (8, 'dicor'),\n",
       " (8, 'civic'),\n",
       " (8, 'brezza'),\n",
       " (8, '2013'),\n",
       " (8, '110ps'),\n",
       " (7, 'zest'),\n",
       " (7, 'x5'),\n",
       " (7, 'x3'),\n",
       " (7, 'transform'),\n",
       " (7, 'tfsi'),\n",
       " (7, 'td4'),\n",
       " (7, 'sv'),\n",
       " (7, 'sunroof'),\n",
       " (7, 'shvs'),\n",
       " (7, 'rxz'),\n",
       " (7, 'optra'),\n",
       " (7, 'mobilio'),\n",
       " (7, 'mfalcon'),\n",
       " (7, 'k10'),\n",
       " (7, 'jeep'),\n",
       " (7, 'gle'),\n",
       " (7, 'gl'),\n",
       " (7, 'gd'),\n",
       " (7, 'fabia'),\n",
       " (7, 'executive'),\n",
       " (7, 'estilo'),\n",
       " (7, 'delta'),\n",
       " (7, 'cr'),\n",
       " (7, 'coupe'),\n",
       " (7, 'compass'),\n",
       " (7, 'bolero'),\n",
       " (7, 'beat'),\n",
       " (7, 'airbag'),\n",
       " (7, 'accent'),\n",
       " (7, '85ps'),\n",
       " (7, '2012-2015'),\n",
       " (7, '1.99'),\n",
       " (6, 'xf'),\n",
       " (6, 'xe'),\n",
       " (6, 'vista'),\n",
       " (6, 'vct'),\n",
       " (6, 'tiago'),\n",
       " (6, 'ti'),\n",
       " (6, 't'),\n",
       " (6, 'sonata'),\n",
       " (6, 'rs'),\n",
       " (6, 'punto'),\n",
       " (6, 'mhawk'),\n",
       " (6, 'magnum'),\n",
       " (6, 'ikon'),\n",
       " (6, 'i-vtech'),\n",
       " (6, 'i-dtec'),\n",
       " (6, 'go'),\n",
       " (6, 'gla'),\n",
       " (6, 'freelander'),\n",
       " (6, 'enjoy'),\n",
       " (6, 'duratorq'),\n",
       " (6, 'duratec'),\n",
       " (6, 'discovery'),\n",
       " (6, 'd75'),\n",
       " (6, 'celebration'),\n",
       " (6, 'aveo'),\n",
       " (6, 'automatic'),\n",
       " (6, 'aura'),\n",
       " (6, 'ameo'),\n",
       " (6, 'ac'),\n",
       " (6, '530d'),\n",
       " (6, '4matic'),\n",
       " (6, '300'),\n",
       " (6, '250'),\n",
       " (6, '2009-2014'),\n",
       " (6, '2005'),\n",
       " (6, '2003-2012'),\n",
       " (6, '2'),\n",
       " (6, '1.5d'),\n",
       " (6, '1.2l'),\n",
       " (5, 'xz'),\n",
       " (5, 'w8'),\n",
       " (5, 'w10'),\n",
       " (5, 'tuv'),\n",
       " (5, 't8'),\n",
       " (5, 'storme'),\n",
       " (5, 'slx'),\n",
       " (5, 'sdrive'),\n",
       " (5, 'santro'),\n",
       " (5, 'santa'),\n",
       " (5, 's10'),\n",
       " (5, 'pure'),\n",
       " (5, 'ml'),\n",
       " (5, 'm-class'),\n",
       " (5, 'ltz'),\n",
       " (5, 'leather'),\n",
       " (5, 'grande'),\n",
       " (5, 'glx'),\n",
       " (5, 'glc'),\n",
       " (5, 'getz'),\n",
       " (5, 'fe'),\n",
       " (5, 'exclusive'),\n",
       " (5, 'ecs'),\n",
       " (5, 'e350'),\n",
       " (5, 'dynamic'),\n",
       " (5, 'dls'),\n",
       " (5, 'design'),\n",
       " (5, 'cs'),\n",
       " (5, 'cla'),\n",
       " (5, 'camry'),\n",
       " (5, 'be'),\n",
       " (5, 'avn'),\n",
       " (5, '7s'),\n",
       " (5, '730ld'),\n",
       " (5, '520d'),\n",
       " (5, '320'),\n",
       " (5, '220d'),\n",
       " (5, '2006-2010'),\n",
       " (5, '2.6'),\n",
       " (5, '110'),\n",
       " (5, '(o)'),\n",
       " (4, 'xm'),\n",
       " (4, 'xline'),\n",
       " (4, 'xing'),\n",
       " (4, 'vogue'),\n",
       " (4, 'vl'),\n",
       " (4, 'ti-vct'),\n",
       " (4, 'tcdi'),\n",
       " (4, 'sp'),\n",
       " (4, 'sle'),\n",
       " (4, 'sfx'),\n",
       " (4, 'sail'),\n",
       " (4, 'rxt'),\n",
       " (4, 'quanto'),\n",
       " (4, 'panamera'),\n",
       " (4, 'lite'),\n",
       " (4, 'kompressor'),\n",
       " (4, 'k'),\n",
       " (4, 'iii'),\n",
       " (4, 'ii'),\n",
       " (4, 'ignis'),\n",
       " (4, 'gt'),\n",
       " (4, 'elite'),\n",
       " (4, 'eeco'),\n",
       " (4, 'ecoboost'),\n",
       " (4, 'dx'),\n",
       " (4, 'dv5'),\n",
       " (4, 'duo'),\n",
       " (4, 'd5'),\n",
       " (4, 'crde'),\n",
       " (4, 'convertible'),\n",
       " (4, 'cayenne'),\n",
       " (4, 'base'),\n",
       " (4, 'awd'),\n",
       " (4, 'alloy'),\n",
       " (4, 'a3'),\n",
       " (4, 'a-star'),\n",
       " (4, 'a'),\n",
       " (4, '8s'),\n",
       " (4, '6'),\n",
       " (4, '30d'),\n",
       " (4, '30'),\n",
       " (4, '2016-2019'),\n",
       " (4, '2012-2014'),\n",
       " (4, '2011-2014'),\n",
       " (4, '2007-2011'),\n",
       " (4, '1.2p'),\n",
       " (3, 'zlx'),\n",
       " (3, 'yeti'),\n",
       " (3, 'xta'),\n",
       " (3, 'xlt'),\n",
       " (3, 'xdrive20d'),\n",
       " (3, 'xc60'),\n",
       " (3, 'x6'),\n",
       " (3, 'w4'),\n",
       " (3, 'w/'),\n",
       " (3, 'vti-l'),\n",
       " (3, 'vd'),\n",
       " (3, 'v6'),\n",
       " (3, 'v40'),\n",
       " (3, 'turbo'),\n",
       " (3, 'tucson'),\n",
       " (3, 'trd'),\n",
       " (3, 'tigor'),\n",
       " (3, 'thar'),\n",
       " (3, 'tdv8'),\n",
       " (3, 'sumo'),\n",
       " (3, 'summum'),\n",
       " (3, 'sportivo'),\n",
       " (3, 'sh'),\n",
       " (3, 's60'),\n",
       " (3, 's-cross'),\n",
       " (3, 's-class'),\n",
       " (3, 'redi-go'),\n",
       " (3, 'pulse'),\n",
       " (3, 'primo'),\n",
       " (3, 'prestige'),\n",
       " (3, 'pack'),\n",
       " (3, 'nxt'),\n",
       " (3, 'minor'),\n",
       " (3, 'm/t'),\n",
       " (3, 'lpg'),\n",
       " (3, 'logan'),\n",
       " (3, 'litre'),\n",
       " (3, 'k8'),\n",
       " (3, 'k4'),\n",
       " (3, 'itech'),\n",
       " (3, 'ipl'),\n",
       " (3, 'hatchback'),\n",
       " (3, 'green'),\n",
       " (3, 'gdi'),\n",
       " (3, 'g80'),\n",
       " (3, 'fwd'),\n",
       " (3, 'fsi'),\n",
       " (3, 'els'),\n",
       " (3, 'efficiency'),\n",
       " (3, 'e4'),\n",
       " (3, 'door'),\n",
       " (3, 'd3'),\n",
       " (3, 'countryman'),\n",
       " (3, 'corporate'),\n",
       " (3, 'clxi'),\n",
       " (3, 'bs3'),\n",
       " (3, 'bolt'),\n",
       " (3, 'blue'),\n",
       " (3, 'black'),\n",
       " (3, 'b'),\n",
       " (3, 'aqua'),\n",
       " (3, 'anniversary'),\n",
       " (3, 'amg'),\n",
       " (3, '525d'),\n",
       " (3, '350d'),\n",
       " (3, '3.6'),\n",
       " (3, '3.2'),\n",
       " (3, '280'),\n",
       " (3, '230'),\n",
       " (3, '2013-2017'),\n",
       " (3, '2010-2013'),\n",
       " (3, '2007-2012'),\n",
       " (3, '2.4l'),\n",
       " (3, '2.2l'),\n",
       " (3, '1.2t'),\n",
       " (3, '1.1l'),\n",
       " (3, '1'),\n",
       " (3, '-'),\n",
       " (3, '(cng)'),\n",
       " (3, '(at)'),\n",
       " (2, 'z4'),\n",
       " (2, 'xxi'),\n",
       " (2, 'xdrive30d'),\n",
       " (2, 'xc90'),\n",
       " (2, 'x-trail'),\n",
       " (2, 'vxd'),\n",
       " (2, 'vgt'),\n",
       " (2, 'verito'),\n",
       " (2, 'v8'),\n",
       " (2, 'ultima'),\n",
       " (2, 'u-va'),\n",
       " (2, 'tdv6'),\n",
       " (2, 'tc'),\n",
       " (2, 'tavera'),\n",
       " (2, 'stingray'),\n",
       " (2, 'ssangyong'),\n",
       " (2, 'sports'),\n",
       " (2, 'spark'),\n",
       " (2, 'signature'),\n",
       " (2, 'sigma'),\n",
       " (2, 'sd4'),\n",
       " (2, 'scala'),\n",
       " (2, 'safire'),\n",
       " (2, 's8'),\n",
       " (2, 's6'),\n",
       " (2, 's4'),\n",
       " (2, 'rexton'),\n",
       " (2, 'revotorq'),\n",
       " (2, 'r350'),\n",
       " (2, 'r-class'),\n",
       " (2, 'qualis'),\n",
       " (2, 'quadrajet90'),\n",
       " (2, 'progressive'),\n",
       " (2, 'portfolio'),\n",
       " (2, 'platinum'),\n",
       " (2, 'passat'),\n",
       " (2, 'paseo'),\n",
       " (2, 'package'),\n",
       " (2, 'o'),\n",
       " (2, 'nuvosport'),\n",
       " (2, 'nexon'),\n",
       " (2, 'multitronic'),\n",
       " (2, 'multijet'),\n",
       " (2, 'mhawk100'),\n",
       " (2, 'matrix'),\n",
       " (2, 'le'),\n",
       " (2, 'lancer'),\n",
       " (2, 'l&k'),\n",
       " (2, 'k6'),\n",
       " (2, 'j'),\n",
       " (2, 'isuzu'),\n",
       " (2, 'i-dtech'),\n",
       " (2, 'hybrid'),\n",
       " (2, 'hexa'),\n",
       " (2, 'h4'),\n",
       " (2, 'gxi'),\n",
       " (2, 'gran'),\n",
       " (2, 'gl-class'),\n",
       " (2, 'g4'),\n",
       " (2, 'fs'),\n",
       " (2, 'fluence'),\n",
       " (2, 'experience'),\n",
       " (2, 'evoque'),\n",
       " (2, 'evo'),\n",
       " (2, 'embera'),\n",
       " (2, 'elx'),\n",
       " (2, 'e8'),\n",
       " (2, 'dle'),\n",
       " (2, 'di'),\n",
       " (2, 'd-4d'),\n",
       " (2, 'cx'),\n",
       " (2, 'cruze'),\n",
       " (2, 'club'),\n",
       " (2, 'climber'),\n",
       " (2, 'captur'),\n",
       " (2, 'captiva'),\n",
       " (2, 'brv'),\n",
       " (2, 'br-v'),\n",
       " (2, 'bhp'),\n",
       " (2, 'b3'),\n",
       " (2, 'b200'),\n",
       " (2, 'avantgrade'),\n",
       " (2, 'and'),\n",
       " (2, 'aero'),\n",
       " (2, 'a7'),\n",
       " (2, 'a180'),\n",
       " (2, 'a/t'),\n",
       " (2, '85'),\n",
       " (2, '8-seater'),\n",
       " (2, '75ps'),\n",
       " (2, '740li'),\n",
       " (2, '7-seater'),\n",
       " (2, '640d'),\n",
       " (2, '5str'),\n",
       " (2, '500'),\n",
       " (2, '45'),\n",
       " (2, '43'),\n",
       " (2, '40d'),\n",
       " (2, '4.2'),\n",
       " (2, '4'),\n",
       " (2, '320i'),\n",
       " (2, '3.0l'),\n",
       " (2, '2013-2015'),\n",
       " (2, '2012'),\n",
       " (2, '2010'),\n",
       " (2, '2008-2012'),\n",
       " (2, '2007-2015'),\n",
       " (2, '2001-2003'),\n",
       " (2, '2.7'),\n",
       " (2, '2.5l'),\n",
       " (2, '177'),\n",
       " (2, '118d'),\n",
       " (2, '1.4l'),\n",
       " (2, '(tdi)'),\n",
       " (2, '(petrol)'),\n",
       " (1, 'z'),\n",
       " (1, 'xza'),\n",
       " (1, 'xuv300'),\n",
       " (1, 'xms'),\n",
       " (1, 'xj'),\n",
       " (1, 'xi'),\n",
       " (1, 'xenon'),\n",
       " (1, 'wt20'),\n",
       " (1, 'wrv'),\n",
       " (1, 'wo'),\n",
       " (1, 'wheel'),\n",
       " (1, 'w9'),\n",
       " (1, 'w7'),\n",
       " (1, 'w6'),\n",
       " (1, 'w'),\n",
       " (1, 'vvt'),\n",
       " (1, 'vti'),\n",
       " (1, 'versa'),\n",
       " (1, 'venture'),\n",
       " (1, 'vcdi'),\n",
       " (1, 'v-cross'),\n",
       " (1, 'type'),\n",
       " (1, 'twist'),\n",
       " (1, 'tt'),\n",
       " (1, 'tour'),\n",
       " (1, 'tiptronic'),\n",
       " (1, 'tiguan'),\n",
       " (1, 'teana'),\n",
       " (1, 'td6'),\n",
       " (1, 't-jet'),\n",
       " (1, 'sxi'),\n",
       " (1, 'sun'),\n",
       " (1, 'standard'),\n",
       " (1, 'spur'),\n",
       " (1, 'spotz'),\n",
       " (1, 'sportline'),\n",
       " (1, 'sportback'),\n",
       " (1, 'speed'),\n",
       " (1, 'smiles'),\n",
       " (1, 'slk-class'),\n",
       " (1, 'slc'),\n",
       " (1, 'sl-class'),\n",
       " (1, 'sl'),\n",
       " (1, 'sfxi'),\n",
       " (1, 'select'),\n",
       " (1, 'seats'),\n",
       " (1, 'sdv8'),\n",
       " (1, 'sdrive20d'),\n",
       " (1, 'safety'),\n",
       " (1, 's80'),\n",
       " (1, 's2'),\n",
       " (1, 'rxe'),\n",
       " (1, 'rx7'),\n",
       " (1, 'rx5'),\n",
       " (1, 'rvi'),\n",
       " (1, 'rs5'),\n",
       " (1, 'royale'),\n",
       " (1, 'roof'),\n",
       " (1, 'roadster'),\n",
       " (1, 'rider'),\n",
       " (1, 'redi'),\n",
       " (1, 'pre'),\n",
       " (1, 'platine'),\n",
       " (1, 'pd'),\n",
       " (1, 'p'),\n",
       " (1, 'outlander'),\n",
       " (1, 'opt'),\n",
       " (1, 'one'),\n",
       " (1, 'nova'),\n",
       " (1, 'nav'),\n",
       " (1, 'n8'),\n",
       " (1, 'n6'),\n",
       " (1, 'n'),\n",
       " (1, 'mux'),\n",
       " (1, 'mustang'),\n",
       " (1, 'ms'),\n",
       " (1, 'montero'),\n",
       " (1, 'mono'),\n",
       " (1, 'momentum'),\n",
       " (1, 'maxx'),\n",
       " (1, 'manual'),\n",
       " (1, 'magnific'),\n",
       " (1, 'magna(o)'),\n",
       " (1, 'lwb'),\n",
       " (1, 'ltd'),\n",
       " (1, 'longitude'),\n",
       " (1, 'long'),\n",
       " (1, 'lodgy'),\n",
       " (1, 'lhd'),\n",
       " (1, 'leisure'),\n",
       " (1, 'lei'),\n",
       " (1, 'launch'),\n",
       " (1, 'lamborghini'),\n",
       " (1, 'konekt'),\n",
       " (1, 'koleos'),\n",
       " (1, 'kinetic'),\n",
       " (1, 'k2'),\n",
       " (1, 'js'),\n",
       " (1, 'jet'),\n",
       " (1, 'inspire'),\n",
       " (1, 'immobiliser'),\n",
       " (1, 'icc'),\n",
       " (1, 'hurricane'),\n",
       " (1, 'htr'),\n",
       " (1, 'high'),\n",
       " (1, 'h2'),\n",
       " (1, 'gxd'),\n",
       " (1, 'gvs'),\n",
       " (1, 'gti'),\n",
       " (1, 'gold'),\n",
       " (1, 'glxd'),\n",
       " (1, 'gallardo'),\n",
       " (1, 'g3'),\n",
       " (1, 'g1'),\n",
       " (1, 'fusion'),\n",
       " (1, 'freestyle'),\n",
       " (1, 'force'),\n",
       " (1, 'flying'),\n",
       " (1, 'flair'),\n",
       " (1, 'facelift'),\n",
       " (1, 'f'),\n",
       " (1, 'explorer'),\n",
       " (1, 'explore'),\n",
       " (1, 'expedition'),\n",
       " (1, 'excellence'),\n",
       " (1, 'evx'),\n",
       " (1, 'evalia'),\n",
       " (1, 'ev'),\n",
       " (1, 'esteem'),\n",
       " (1, 'eminence'),\n",
       " (1, 'emax'),\n",
       " (1, 'elan'),\n",
       " (1, 'egvx'),\n",
       " (1, 'eglx'),\n",
       " (1, 'e400'),\n",
       " (1, 'e270'),\n",
       " (1, 'e200'),\n",
       " (1, 'e2'),\n",
       " (1, 'e-vgt'),\n",
       " (1, 'dx2'),\n",
       " (1, 'dualtone'),\n",
       " (1, 'dsg'),\n",
       " (1, 'dlx'),\n",
       " (1, 'dlg'),\n",
       " (1, 'dl'),\n",
       " (1, 'dg'),\n",
       " (1, 'delux'),\n",
       " (1, 'd70'),\n",
       " (1, 'd6'),\n",
       " (1, 'd4dj'),\n",
       " (1, 'd4dg'),\n",
       " (1, 'd2'),\n",
       " (1, 'd-max'),\n",
       " (1, 'crz'),\n",
       " (1, 'crosspolo'),\n",
       " (1, 'country'),\n",
       " (1, 'continental'),\n",
       " (1, 'command'),\n",
       " (1, 'clubman'),\n",
       " (1, 'ci'),\n",
       " (1, 'cedia'),\n",
       " (1, 'cbu'),\n",
       " (1, 'cargo'),\n",
       " (1, 'carbon'),\n",
       " (1, 'cabriolet'),\n",
       " (1, 'c8'),\n",
       " (1, 'c6'),\n",
       " (1, 'c4'),\n",
       " (1, 'c250'),\n",
       " (1, 'c220'),\n",
       " (1, 'c2'),\n",
       " (1, 'bs-iii'),\n",
       " (1, 'breeze'),\n",
       " (1, 'boxster'),\n",
       " (1, 'blacktop'),\n",
       " (1, 'bentley'),\n",
       " (1, 'beetle'),\n",
       " (1, 'b2'),\n",
       " (1, 'b180'),\n",
       " (1, 'avventura'),\n",
       " (1, 'avantgare'),\n",
       " (1, 'attraction'),\n",
       " (1, 'amt1.2'),\n",
       " (1, 'ambassador'),\n",
       " (1, 'aktiv'),\n",
       " (1, 'ags'),\n",
       " (1, 'adventure'),\n",
       " (1, 'advantage'),\n",
       " (1, 'a8'),\n",
       " (1, 'a200'),\n",
       " (1, '90'),\n",
       " (1, '9'),\n",
       " (1, '7str'),\n",
       " (1, '750li'),\n",
       " (1, '630i'),\n",
       " (1, '55'),\n",
       " (1, '540i'),\n",
       " (1, '523i'),\n",
       " (1, '5.0'),\n",
       " (1, '4s'),\n",
       " (1, '4d'),\n",
       " (1, '4.4'),\n",
       " (1, '35i'),\n",
       " (1, '330d'),\n",
       " (1, '330'),\n",
       " (1, '328i'),\n",
       " (1, '325i'),\n",
       " (1, '318i'),\n",
       " (1, '3.0d'),\n",
       " (1, '250hp'),\n",
       " (1, '250d'),\n",
       " (1, '220cdibe'),\n",
       " (1, '210'),\n",
       " (1, '2014-2019'),\n",
       " (1, '2014'),\n",
       " (1, '2013-2016'),\n",
       " (1, '2010-2014'),\n",
       " (1, '2008-2013'),\n",
       " (1, '2007-2010'),\n",
       " (1, '2007'),\n",
       " (1, '2005-2011'),\n",
       " (1, '2001-2011'),\n",
       " (1, '2.5i'),\n",
       " (1, '2.3'),\n",
       " (1, '18i'),\n",
       " (1, '16'),\n",
       " (1, '10'),\n",
       " (1, '1.6l'),\n",
       " (1, '1.5p'),\n",
       " (1, '1.05'),\n",
       " (1, '(he)'),\n",
       " (1, '(e)'),\n",
       " (1, '(abs)')]"
      ]
     },
     "execution_count": 15,
     "metadata": {},
     "output_type": "execute_result"
    }
   ],
   "source": [
    "counter_syllabi[::-1]"
   ]
  },
  {
   "cell_type": "code",
   "execution_count": 16,
   "id": "b63145b7",
   "metadata": {},
   "outputs": [],
   "source": [
    "# it is obvious that we could manually hand pick the brands of the cars, but since those names weren't in a sentence\n",
    "# we can't do it in a non manual way (we could use NER instead)."
   ]
  },
  {
   "cell_type": "code",
   "execution_count": 17,
   "id": "a6d83665",
   "metadata": {},
   "outputs": [
    {
     "data": {
      "image/png": "[encoded data removed]",
      "text/plain": [
       "<Figure size 1440x360 with 1 Axes>"
      ]
     },
     "metadata": {
      "needs_background": "light"
     },
     "output_type": "display_data"
    },
    {
     "data": {
      "image/png": "[encoded data removed]",
      "text/plain": [
       "<Figure size 1440x360 with 1 Axes>"
      ]
     },
     "metadata": {
      "needs_background": "light"
     },
     "output_type": "display_data"
    },
    {
     "data": {
      "image/png": "[encoded data removed]",
      "text/plain": [
       "<Figure size 1440x360 with 1 Axes>"
      ]
     },
     "metadata": {
      "needs_background": "light"
     },
     "output_type": "display_data"
    },
    {
     "data": {
      "image/png": "[encoded data removed]",
      "text/plain": [
       "<Figure size 1440x360 with 1 Axes>"
      ]
     },
     "metadata": {
      "needs_background": "light"
     },
     "output_type": "display_data"
    }
   ],
   "source": [
    "for i in continuous_variables:\n",
    "    data_input.loc[:, i].hist(figsize=(20,5), bins=200, legend=i)\n",
    "    plt.show()"
   ]
  },
  {
   "cell_type": "markdown",
   "id": "8e65f9b1",
   "metadata": {},
   "source": [
    "Now we have to check wether there is a correlation between our features and our labels using scatter plots"
   ]
  },
  {
   "cell_type": "code",
   "execution_count": 18,
   "id": "fc2e6045",
   "metadata": {},
   "outputs": [
    {
     "data": {
      "image/png": "[encoded data removed]",
      "text/plain": [
       "<Figure size 432x288 with 1 Axes>"
      ]
     },
     "metadata": {
      "needs_background": "light"
     },
     "output_type": "display_data"
    },
    {
     "data": {
      "image/png": "[encoded data removed]",
      "text/plain": [
       "<Figure size 432x288 with 1 Axes>"
      ]
     },
     "metadata": {
      "needs_background": "light"
     },
     "output_type": "display_data"
    },
    {
     "data": {
      "image/png": "[encoded data removed]",
      "text/plain": [
       "<Figure size 432x288 with 1 Axes>"
      ]
     },
     "metadata": {
      "needs_background": "light"
     },
     "output_type": "display_data"
    },
    {
     "data": {
      "image/png": "[encoded data removed]",
      "text/plain": [
       "<Figure size 432x288 with 1 Axes>"
      ]
     },
     "metadata": {
      "needs_background": "light"
     },
     "output_type": "display_data"
    }
   ],
   "source": [
    "for i in continuous_variables:\n",
    "    plt.title(\"scatter plot %s - label\"%i)\n",
    "    plt.scatter(data_input.loc[:, i].values, data_input.loc[:, label_name].values)\n",
    "    plt.show()"
   ]
  },
  {
   "cell_type": "markdown",
   "id": "d73b949c",
   "metadata": {},
   "source": [
    "There seems to be a severe correlation of Power and price"
   ]
  },
  {
   "cell_type": "markdown",
   "id": "d8ce1a85",
   "metadata": {},
   "source": [
    "before we go any further and prepare for our model we need to encode all our categorical variables"
   ]
  },
  {
   "cell_type": "code",
   "execution_count": 19,
   "id": "b8e6a8ce",
   "metadata": {},
   "outputs": [],
   "source": [
    "data_input = data_input.loc[:, data_input.columns != \"Name\"]"
   ]
  },
  {
   "cell_type": "code",
   "execution_count": 20,
   "id": "a96765b8",
   "metadata": {},
   "outputs": [
    {
     "data": {
      "text/html": [
       "<div>\n",
       "<style scoped>\n",
       "    .dataframe tbody tr th:only-of-type {\n",
       "        vertical-align: middle;\n",
       "    }\n",
       "\n",
       "    .dataframe tbody tr th {\n",
       "        vertical-align: top;\n",
       "    }\n",
       "\n",
       "    .dataframe thead th {\n",
       "        text-align: right;\n",
       "    }\n",
       "</style>\n",
       "<table border=\"1\" class=\"dataframe\">\n",
       "  <thead>\n",
       "    <tr style=\"text-align: right;\">\n",
       "      <th></th>\n",
       "      <th>Power</th>\n",
       "      <th>Mileage</th>\n",
       "      <th>Kilometers_Driven</th>\n",
       "      <th>Engine</th>\n",
       "      <th>Age</th>\n",
       "    </tr>\n",
       "  </thead>\n",
       "  <tbody>\n",
       "    <tr>\n",
       "      <th>count</th>\n",
       "      <td>4907.000000</td>\n",
       "      <td>4907.000000</td>\n",
       "      <td>4907.000000</td>\n",
       "      <td>4907.000000</td>\n",
       "      <td>4907.000000</td>\n",
       "    </tr>\n",
       "    <tr>\n",
       "      <th>mean</th>\n",
       "      <td>112.853436</td>\n",
       "      <td>18.280715</td>\n",
       "      <td>57325.883432</td>\n",
       "      <td>1621.659874</td>\n",
       "      <td>7.545140</td>\n",
       "    </tr>\n",
       "    <tr>\n",
       "      <th>std</th>\n",
       "      <td>53.763071</td>\n",
       "      <td>4.391050</td>\n",
       "      <td>38433.648533</td>\n",
       "      <td>599.531875</td>\n",
       "      <td>3.185934</td>\n",
       "    </tr>\n",
       "    <tr>\n",
       "      <th>min</th>\n",
       "      <td>34.200000</td>\n",
       "      <td>0.000000</td>\n",
       "      <td>171.000000</td>\n",
       "      <td>624.000000</td>\n",
       "      <td>2.000000</td>\n",
       "    </tr>\n",
       "    <tr>\n",
       "      <th>25%</th>\n",
       "      <td>74.980000</td>\n",
       "      <td>15.260000</td>\n",
       "      <td>33000.000000</td>\n",
       "      <td>1198.000000</td>\n",
       "      <td>5.000000</td>\n",
       "    </tr>\n",
       "    <tr>\n",
       "      <th>50%</th>\n",
       "      <td>94.000000</td>\n",
       "      <td>18.200000</td>\n",
       "      <td>53000.000000</td>\n",
       "      <td>1493.000000</td>\n",
       "      <td>7.000000</td>\n",
       "    </tr>\n",
       "    <tr>\n",
       "      <th>75%</th>\n",
       "      <td>138.100000</td>\n",
       "      <td>21.100000</td>\n",
       "      <td>72467.000000</td>\n",
       "      <td>1968.000000</td>\n",
       "      <td>9.000000</td>\n",
       "    </tr>\n",
       "    <tr>\n",
       "      <th>max</th>\n",
       "      <td>560.000000</td>\n",
       "      <td>33.540000</td>\n",
       "      <td>775000.000000</td>\n",
       "      <td>5998.000000</td>\n",
       "      <td>23.000000</td>\n",
       "    </tr>\n",
       "  </tbody>\n",
       "</table>\n",
       "</div>"
      ],
      "text/plain": [
       "             Power      Mileage  Kilometers_Driven       Engine          Age\n",
       "count  4907.000000  4907.000000        4907.000000  4907.000000  4907.000000\n",
       "mean    112.853436    18.280715       57325.883432  1621.659874     7.545140\n",
       "std      53.763071     4.391050       38433.648533   599.531875     3.185934\n",
       "min      34.200000     0.000000         171.000000   624.000000     2.000000\n",
       "25%      74.980000    15.260000       33000.000000  1198.000000     5.000000\n",
       "50%      94.000000    18.200000       53000.000000  1493.000000     7.000000\n",
       "75%     138.100000    21.100000       72467.000000  1968.000000     9.000000\n",
       "max     560.000000    33.540000      775000.000000  5998.000000    23.000000"
      ]
     },
     "execution_count": 20,
     "metadata": {},
     "output_type": "execute_result"
    }
   ],
   "source": [
    "data_input.loc[:, set(data_input.columns) - set(categorical_variables) - {\"Price\"}].describe()"
   ]
  },
  {
   "cell_type": "markdown",
   "id": "46bc9c52",
   "metadata": {},
   "source": [
    "Show the correlation between the continuous data and the label. Correlation does not imply causation but we do get a very strong sense of the important features here, features with more variance tend to give more information to the  model."
   ]
  },
  {
   "cell_type": "code",
   "execution_count": 21,
   "id": "d28a4494",
   "metadata": {},
   "outputs": [
    {
     "data": {
      "text/plain": [
       "Kilometers_Driven   -0.163542\n",
       "Owner_Type          -0.087418\n",
       "Mileage             -0.338404\n",
       "Engine               0.658710\n",
       "Power                0.774266\n",
       "Seats                0.052659\n",
       "Price                1.000000\n",
       "Age                 -0.298063\n",
       "Name: Price, dtype: float64"
      ]
     },
     "execution_count": 21,
     "metadata": {},
     "output_type": "execute_result"
    }
   ],
   "source": [
    "data_input.loc[:, :].corr()[label_name]"
   ]
  },
  {
   "cell_type": "code",
   "execution_count": 22,
   "id": "f17dbd1a",
   "metadata": {},
   "outputs": [],
   "source": [
    "cat_df = data_input.loc[:, categorical_variables].copy()"
   ]
  },
  {
   "cell_type": "code",
   "execution_count": 23,
   "id": "81f402cb",
   "metadata": {},
   "outputs": [
    {
     "data": {
      "text/html": [
       "<div>\n",
       "<style scoped>\n",
       "    .dataframe tbody tr th:only-of-type {\n",
       "        vertical-align: middle;\n",
       "    }\n",
       "\n",
       "    .dataframe tbody tr th {\n",
       "        vertical-align: top;\n",
       "    }\n",
       "\n",
       "    .dataframe thead th {\n",
       "        text-align: right;\n",
       "    }\n",
       "</style>\n",
       "<table border=\"1\" class=\"dataframe\">\n",
       "  <thead>\n",
       "    <tr style=\"text-align: right;\">\n",
       "      <th></th>\n",
       "      <th>Fuel_Type</th>\n",
       "      <th>Transmission</th>\n",
       "      <th>Owner_Type</th>\n",
       "      <th>Seats</th>\n",
       "    </tr>\n",
       "  </thead>\n",
       "  <tbody>\n",
       "    <tr>\n",
       "      <th>0</th>\n",
       "      <td>3</td>\n",
       "      <td>1</td>\n",
       "      <td>1</td>\n",
       "      <td>2</td>\n",
       "    </tr>\n",
       "    <tr>\n",
       "      <th>1</th>\n",
       "      <td>1</td>\n",
       "      <td>1</td>\n",
       "      <td>0</td>\n",
       "      <td>4</td>\n",
       "    </tr>\n",
       "    <tr>\n",
       "      <th>2</th>\n",
       "      <td>3</td>\n",
       "      <td>0</td>\n",
       "      <td>0</td>\n",
       "      <td>2</td>\n",
       "    </tr>\n",
       "    <tr>\n",
       "      <th>3</th>\n",
       "      <td>3</td>\n",
       "      <td>1</td>\n",
       "      <td>0</td>\n",
       "      <td>2</td>\n",
       "    </tr>\n",
       "    <tr>\n",
       "      <th>4</th>\n",
       "      <td>1</td>\n",
       "      <td>0</td>\n",
       "      <td>0</td>\n",
       "      <td>2</td>\n",
       "    </tr>\n",
       "    <tr>\n",
       "      <th>...</th>\n",
       "      <td>...</td>\n",
       "      <td>...</td>\n",
       "      <td>...</td>\n",
       "      <td>...</td>\n",
       "    </tr>\n",
       "    <tr>\n",
       "      <th>4902</th>\n",
       "      <td>1</td>\n",
       "      <td>1</td>\n",
       "      <td>1</td>\n",
       "      <td>5</td>\n",
       "    </tr>\n",
       "    <tr>\n",
       "      <th>4903</th>\n",
       "      <td>1</td>\n",
       "      <td>0</td>\n",
       "      <td>0</td>\n",
       "      <td>2</td>\n",
       "    </tr>\n",
       "    <tr>\n",
       "      <th>4904</th>\n",
       "      <td>1</td>\n",
       "      <td>0</td>\n",
       "      <td>0</td>\n",
       "      <td>4</td>\n",
       "    </tr>\n",
       "    <tr>\n",
       "      <th>4905</th>\n",
       "      <td>3</td>\n",
       "      <td>1</td>\n",
       "      <td>0</td>\n",
       "      <td>2</td>\n",
       "    </tr>\n",
       "    <tr>\n",
       "      <th>4906</th>\n",
       "      <td>3</td>\n",
       "      <td>1</td>\n",
       "      <td>0</td>\n",
       "      <td>2</td>\n",
       "    </tr>\n",
       "  </tbody>\n",
       "</table>\n",
       "<p>4907 rows × 4 columns</p>\n",
       "</div>"
      ],
      "text/plain": [
       "      Fuel_Type  Transmission  Owner_Type  Seats\n",
       "0             3             1           1      2\n",
       "1             1             1           0      4\n",
       "2             3             0           0      2\n",
       "3             3             1           0      2\n",
       "4             1             0           0      2\n",
       "...         ...           ...         ...    ...\n",
       "4902          1             1           1      5\n",
       "4903          1             0           0      2\n",
       "4904          1             0           0      4\n",
       "4905          3             1           0      2\n",
       "4906          3             1           0      2\n",
       "\n",
       "[4907 rows x 4 columns]"
      ]
     },
     "execution_count": 23,
     "metadata": {},
     "output_type": "execute_result"
    }
   ],
   "source": [
    "cat_df.apply(LabelEncoder().fit_transform)"
   ]
  },
  {
   "cell_type": "code",
   "execution_count": 24,
   "id": "a25bba87",
   "metadata": {},
   "outputs": [],
   "source": [
    "enc = OneHotEncoder()\n",
    "enc.fit(cat_df)\n",
    "onehotlabels = enc.transform(cat_df).toarray()"
   ]
  },
  {
   "cell_type": "code",
   "execution_count": 25,
   "id": "557d972c",
   "metadata": {},
   "outputs": [],
   "source": [
    "model_ready_data = pd.concat([data_input.loc[:, continuous_variables],pd.DataFrame(onehotlabels)],axis=1)"
   ]
  },
  {
   "cell_type": "code",
   "execution_count": 26,
   "id": "0f902819",
   "metadata": {},
   "outputs": [
    {
     "data": {
      "text/plain": [
       "['Kilometers_Driven', 'Mileage', 'Power', 'Engine']"
      ]
     },
     "execution_count": 26,
     "metadata": {},
     "output_type": "execute_result"
    }
   ],
   "source": [
    "continuous_variables"
   ]
  },
  {
   "cell_type": "code",
   "execution_count": 27,
   "id": "b00bf9aa",
   "metadata": {},
   "outputs": [],
   "source": [
    "model_ready_data = pd.concat([model_ready_data, data_input.loc[:, label_name]], axis=1)"
   ]
  },
  {
   "cell_type": "markdown",
   "id": "de0132ab",
   "metadata": {},
   "source": [
    "Before feeding it to models we will have to scale them in order not to punish the other features.\n",
    "But it is paramount to create two scalers in order not to have information leakage."
   ]
  },
  {
   "cell_type": "code",
   "execution_count": 28,
   "id": "b9b86f09",
   "metadata": {},
   "outputs": [
    {
     "data": {
      "text/plain": [
       "count      4907.000000\n",
       "mean       9588.402282\n",
       "std       11414.224423\n",
       "min         440.000000\n",
       "25%        3500.000000\n",
       "50%        5680.000000\n",
       "75%       10000.000000\n",
       "max      160000.000000\n",
       "Name: Price, dtype: float64"
      ]
     },
     "execution_count": 28,
     "metadata": {},
     "output_type": "execute_result"
    }
   ],
   "source": [
    "model_ready_data.astype(float).describe()[\"Price\"]"
   ]
  },
  {
   "cell_type": "code",
   "execution_count": 29,
   "id": "b491bfa0",
   "metadata": {},
   "outputs": [],
   "source": [
    "# model_ready_data.corr()[label_name]"
   ]
  },
  {
   "cell_type": "code",
   "execution_count": 30,
   "id": "c03961e4",
   "metadata": {},
   "outputs": [],
   "source": [
    "X_train, X_test, y_train, y_test = train_test_split(model_ready_data.loc[:, model_ready_data.columns!=label_name].values, data_input.loc[:, label_name].values, test_size=0.2, random_state=42)"
   ]
  },
  {
   "cell_type": "markdown",
   "id": "21779a98",
   "metadata": {},
   "source": [
    "first run without any scaling/outlier removal etc"
   ]
  },
  {
   "cell_type": "code",
   "execution_count": 31,
   "id": "aee0565c",
   "metadata": {},
   "outputs": [],
   "source": [
    "from sklearn.linear_model import LinearRegression\n",
    "from xgboost import XGBRegressor\n",
    "from sklearn.svm import SVR"
   ]
  },
  {
   "cell_type": "code",
   "execution_count": 32,
   "id": "e2f91ae8",
   "metadata": {},
   "outputs": [
    {
     "name": "stdout",
     "output_type": "stream",
     "text": [
      "Training MAE 3754.592265247972\n",
      "Training mean squared error 38991940.09352499\n",
      "MAE 4092.485393252567\n",
      "explained variance: r2 , 0.31657536146912846\n",
      "mean squared error 60970650.56870904\n"
     ]
    },
    {
     "data": {
      "image/png": "[encoded data removed]",
      "text/plain": [
       "<Figure size 432x288 with 1 Axes>"
      ]
     },
     "metadata": {
      "needs_background": "light"
     },
     "output_type": "display_data"
    }
   ],
   "source": [
    "model = LinearRegression()\n",
    "\n",
    "model.fit(X_train, y_train)\n",
    "\n",
    "y_pred = model.predict(X_test)\n",
    "print(\"Training MAE\", mean_absolute_error(model.predict(X_train), y_train))\n",
    "print(\"Training mean squared error\", mean_squared_error(model.predict(X_train), y_train))\n",
    "\n",
    "print(\"validation MAE\", mean_absolute_error(y_pred, y_test))\n",
    "print(\"validation explained variance: r2 ,\",r2_score(y_pred, y_test))\n",
    "print(\"validation mean squared error\", mean_squared_error(y_pred, y_test))\n",
    "\n",
    "plt.scatter(y_pred,y_test)\n",
    "plt.show()"
   ]
  },
  {
   "cell_type": "code",
   "execution_count": 33,
   "id": "660c16a4",
   "metadata": {},
   "outputs": [
    {
     "name": "stdout",
     "output_type": "stream",
     "text": [
      "Training MAE 906.2959855972582\n",
      "Training mean squared error 1837187.1894051803\n",
      "validation MAE 2229.176871181263\n",
      "explained variance: r2 , 0.791163533447416\n",
      "validation mean squared error 26835632.621266443\n"
     ]
    },
    {
     "data": {
      "image/png": "[encoded data removed]",
      "text/plain": [
       "<Figure size 432x288 with 1 Axes>"
      ]
     },
     "metadata": {
      "needs_background": "light"
     },
     "output_type": "display_data"
    }
   ],
   "source": [
    "model = XGBRegressor()\n",
    "\n",
    "model.fit(X_train, y_train)\n",
    "\n",
    "\n",
    "print(\"Training MAE\", mean_absolute_error(model.predict(X_train), y_train))\n",
    "print(\"Training mean squared error\", mean_squared_error(model.predict(X_train), y_train))\n",
    "\n",
    "\n",
    "\n",
    "\n",
    "y_pred = model.predict(X_test)\n",
    "\n",
    "print(\"validation MAE\", mean_absolute_error(y_pred, y_test))\n",
    "print(\"explained variance: r2 ,\",r2_score(y_pred, y_test))\n",
    "print(\"validation mean squared error\", mean_squared_error(y_pred, y_test))\n",
    "\n",
    "plt.scatter(y_pred,y_test)\n",
    "plt.show()"
   ]
  },
  {
   "cell_type": "code",
   "execution_count": 34,
   "id": "033dce15",
   "metadata": {},
   "outputs": [
    {
     "name": "stdout",
     "output_type": "stream",
     "text": [
      "Training MAE 5938.289890275577\n",
      "Training mean squared error 136254202.94722843\n",
      "MAE 6559.260249274364\n",
      "explained variance: r2 , -19443.681642432475\n",
      "mean squared error 182328975.963638\n"
     ]
    },
    {
     "data": {
      "image/png": "[encoded data removed]",
      "text/plain": [
       "<Figure size 432x288 with 1 Axes>"
      ]
     },
     "metadata": {
      "needs_background": "light"
     },
     "output_type": "display_data"
    }
   ],
   "source": [
    "model = SVR()\n",
    "\n",
    "model.fit(X_train, y_train)\n",
    "\n",
    "y_pred = model.predict(X_test)\n",
    "print(\"Training MAE\", mean_absolute_error(model.predict(X_train), y_train))\n",
    "print(\"Training mean squared error\", mean_squared_error(model.predict(X_train), y_train))\n",
    "\n",
    "\n",
    "print(\"validation MAE\", mean_absolute_error(y_pred, y_test))\n",
    "print(\"validation explained variance: r2 ,\",r2_score(y_pred, y_test))\n",
    "print(\"validation mean squared error\", mean_squared_error(y_pred, y_test))\n",
    "\n",
    "plt.scatter(y_pred,y_test)\n",
    "plt.show()"
   ]
  },
  {
   "cell_type": "code",
   "execution_count": 35,
   "id": "32582f12",
   "metadata": {},
   "outputs": [],
   "source": [
    "# obviously fails because SVMs' are very sensitive to unscaled data."
   ]
  },
  {
   "cell_type": "code",
   "execution_count": 36,
   "id": "7f14a667",
   "metadata": {},
   "outputs": [],
   "source": [
    "# model_ready_data.loc[model_ready_data[\"Price\"]>=(9588.40 + 3*11414.22),\"Price\"].shape"
   ]
  },
  {
   "cell_type": "code",
   "execution_count": 37,
   "id": "72d66f49",
   "metadata": {},
   "outputs": [],
   "source": [
    "from sklearn.preprocessing import RobustScaler"
   ]
  },
  {
   "cell_type": "markdown",
   "id": "ac1d3bf6",
   "metadata": {},
   "source": [
    "We use RobustScaler since it's better on handling outliers"
   ]
  },
  {
   "cell_type": "code",
   "execution_count": 38,
   "id": "c85c7f9e",
   "metadata": {},
   "outputs": [],
   "source": [
    "scx_train = RobustScaler()\n",
    "scx_test = RobustScaler()\n",
    "\n",
    "scy_train = RobustScaler()\n",
    "scy_test = RobustScaler()\n",
    "\n",
    "\n",
    "X_train = scx_train.fit_transform(X_train)\n",
    "y_train = scy_train.fit_transform(y_train.reshape(-1, 1))\n",
    "\n",
    "\n",
    "X_test = scx_train.fit_transform(X_test)\n",
    "y_test = scy_train.fit_transform(y_test.reshape(-1, 1))\n"
   ]
  },
  {
   "cell_type": "code",
   "execution_count": 39,
   "id": "fec19f86",
   "metadata": {},
   "outputs": [
    {
     "name": "stdout",
     "output_type": "stream",
     "text": [
      "Training MAE 0.6007347624396705\n",
      "Training mean squared error 0.99819366639424\n",
      "MAE 0.6200981458665259\n",
      "explained variance: r2 , 0.5237434565018171\n",
      "mean squared error 1.1443668323768685\n"
     ]
    },
    {
     "data": {
      "image/png": "[encoded data removed]",
      "text/plain": [
       "<Figure size 432x288 with 1 Axes>"
      ]
     },
     "metadata": {
      "needs_background": "light"
     },
     "output_type": "display_data"
    }
   ],
   "source": [
    "model = LinearRegression()\n",
    "\n",
    "model.fit(X_train, y_train)\n",
    "\n",
    "y_pred = model.predict(X_test)\n",
    "print(\"Training MAE\", mean_absolute_error(model.predict(X_train), y_train))\n",
    "print(\"Training mean squared error\", mean_squared_error(model.predict(X_train), y_train))\n",
    "\n",
    "print(\"validation MAE\", mean_absolute_error(y_pred, y_test))\n",
    "print(\"validation explained variance: r2 ,\",r2_score(y_pred, y_test))\n",
    "print(\"validation mean squared error\", mean_squared_error(y_pred, y_test))\n",
    "\n",
    "plt.scatter(y_pred,y_test)\n",
    "plt.show()"
   ]
  },
  {
   "cell_type": "code",
   "execution_count": 40,
   "id": "920866c3",
   "metadata": {},
   "outputs": [
    {
     "name": "stdout",
     "output_type": "stream",
     "text": [
      "Training MAE 0.1501101851133504\n",
      "Training mean squared error 0.049806627732879576\n",
      "validation MAE 0.44308758241378443\n",
      "explained variance: r2 , 0.7783687052269735\n",
      "validation mean squared error 0.7134437045062595\n"
     ]
    },
    {
     "data": {
      "image/png": "[encoded data removed]",
      "text/plain": [
       "<Figure size 432x288 with 1 Axes>"
      ]
     },
     "metadata": {
      "needs_background": "light"
     },
     "output_type": "display_data"
    }
   ],
   "source": [
    "model = XGBRegressor()\n",
    "\n",
    "model.fit(X_train, y_train)\n",
    "\n",
    "\n",
    "print(\"Training MAE\", mean_absolute_error(model.predict(X_train), y_train))\n",
    "print(\"Training mean squared error\", mean_squared_error(model.predict(X_train), y_train))\n",
    "\n",
    "\n",
    "\n",
    "\n",
    "y_pred = model.predict(X_test)\n",
    "\n",
    "print(\"validation MAE\", mean_absolute_error(y_pred, y_test))\n",
    "print(\"validation explained variance: r2 ,\",r2_score(y_pred, y_test))\n",
    "print(\"validation mean squared error\", mean_squared_error(y_pred, y_test))\n",
    "\n",
    "plt.scatter(y_pred,y_test)\n",
    "plt.show()"
   ]
  },
  {
   "cell_type": "code",
   "execution_count": 41,
   "id": "4927154f",
   "metadata": {},
   "outputs": [
    {
     "name": "stderr",
     "output_type": "stream",
     "text": [
      "/home/dlolis/.local/lib/python3.8/site-packages/sklearn/utils/validation.py:63: DataConversionWarning: A column-vector y was passed when a 1d array was expected. Please change the shape of y to (n_samples, ), for example using ravel().\n",
      "  return f(*args, **kwargs)\n"
     ]
    },
    {
     "name": "stdout",
     "output_type": "stream",
     "text": [
      "Training MAE 0.4056113432012808\n",
      "Training mean squared error 0.72369302292962\n",
      "MAE 0.40888213135282053\n",
      "explained variance: r2 , 0.6572460261432054\n",
      "mean squared error 0.7631133099647787\n"
     ]
    },
    {
     "data": {
      "image/png": "[encoded data removed]",
      "text/plain": [
       "<Figure size 432x288 with 1 Axes>"
      ]
     },
     "metadata": {
      "needs_background": "light"
     },
     "output_type": "display_data"
    }
   ],
   "source": [
    "model = SVR()\n",
    "\n",
    "model.fit(X_train, y_train)\n",
    "\n",
    "y_pred = model.predict(X_test)\n",
    "print(\"Training MAE\", mean_absolute_error(model.predict(X_train), y_train))\n",
    "print(\"Training mean squared error\", mean_squared_error(model.predict(X_train), y_train))\n",
    "\n",
    "\n",
    "print(\"validation MAE\", mean_absolute_error(y_pred, y_test))\n",
    "print(\"validation explained variance: r2 ,\",r2_score(y_pred, y_test))\n",
    "print(\"validation mean squared error\", mean_squared_error(y_pred, y_test))\n",
    "\n",
    "plt.scatter(y_pred,y_test)\n",
    "plt.show()"
   ]
  },
  {
   "cell_type": "markdown",
   "id": "3a4c5162",
   "metadata": {},
   "source": [
    "In order to fix the outliers on the labels we put the in log function"
   ]
  },
  {
   "cell_type": "code",
   "execution_count": 43,
   "id": "bc74198b",
   "metadata": {},
   "outputs": [],
   "source": [
    "data_input.loc[:, label_name] = data_input.loc[:, label_name].apply(np.log)\n",
    "X_train, X_test, y_train, y_test = train_test_split(model_ready_data.loc[:, model_ready_data.columns!=label_name], data_input.loc[:, label_name], test_size=0.2, random_state=42)"
   ]
  },
  {
   "cell_type": "markdown",
   "id": "3f5edf70",
   "metadata": {},
   "source": [
    "using log transformation on the labels we eliminate the outliers, but since our features *also have outliers* we can still use RobustScaler on them"
   ]
  },
  {
   "cell_type": "code",
   "execution_count": 44,
   "id": "b33852ab",
   "metadata": {},
   "outputs": [],
   "source": [
    "# scx_train = RobustScaler()\n",
    "# scx_test = RobustScaler()\n",
    "\n",
    "# X_train = scx_train.fit_transform(X_train)\n",
    "\n",
    "# X_test = scx_train.fit_transform(X_test)"
   ]
  },
  {
   "cell_type": "code",
   "execution_count": 45,
   "id": "ca910ddf",
   "metadata": {},
   "outputs": [
    {
     "name": "stdout",
     "output_type": "stream",
     "text": [
      "running with LinearRegression \n",
      "Training MAE 0.33425287213631083\n",
      "Training mean squared error 0.18969552666307202\n",
      "validation MAE 0.32494817218476124\n",
      "validation explained variance: r2 , 0.7188590279947464\n",
      "validation mean squared error 0.17129886665715194\n"
     ]
    },
    {
     "data": {
      "image/png": "[encoded data removed]",
      "text/plain": [
       "<Figure size 432x288 with 1 Axes>"
      ]
     },
     "metadata": {
      "needs_background": "light"
     },
     "output_type": "display_data"
    },
    {
     "name": "stdout",
     "output_type": "stream",
     "text": [
      "running with XGBRegressor \n"
     ]
    },
    {
     "name": "stderr",
     "output_type": "stream",
     "text": [
      "/home/dlolis/.local/lib/python3.8/site-packages/xgboost/data.py:112: UserWarning: Use subset (sliced data) of np.ndarray is not recommended because it will generate extra copies and increase memory consumption\n",
      "  warnings.warn(\n",
      "/home/dlolis/.local/lib/python3.8/site-packages/xgboost/data.py:112: UserWarning: Use subset (sliced data) of np.ndarray is not recommended because it will generate extra copies and increase memory consumption\n",
      "  warnings.warn(\n"
     ]
    },
    {
     "name": "stdout",
     "output_type": "stream",
     "text": [
      "Training MAE 0.12660023916402696\n",
      "Training mean squared error 0.028022920602564772\n",
      "validation MAE 0.2248301236994066\n",
      "validation explained variance: r2 , 0.871235504059373\n",
      "validation mean squared error 0.08930538918665713\n"
     ]
    },
    {
     "data": {
      "image/png": "[encoded data removed]",
      "text/plain": [
       "<Figure size 432x288 with 1 Axes>"
      ]
     },
     "metadata": {
      "needs_background": "light"
     },
     "output_type": "display_data"
    },
    {
     "name": "stdout",
     "output_type": "stream",
     "text": [
      "running with SVR \n",
      "Training MAE 0.5469409683596673\n",
      "Training mean squared error 0.5015615568807827\n",
      "validation MAE 0.5566389802386815\n",
      "validation explained variance: r2 , -5.5915017207400135\n",
      "validation mean squared error 0.5190879352096129\n"
     ]
    },
    {
     "data": {
      "image/png": "[encoded data removed]",
      "text/plain": [
       "<Figure size 432x288 with 1 Axes>"
      ]
     },
     "metadata": {
      "needs_background": "light"
     },
     "output_type": "display_data"
    }
   ],
   "source": [
    "for model in [LinearRegression, XGBRegressor, SVR]:\n",
    "    nm = model.__name__\n",
    "    print(\"running with %s \"%nm)\n",
    "    model = model()\n",
    "    model.fit(X_train, y_train)\n",
    "\n",
    "    y_pred = model.predict(X_test)\n",
    "    print(\"Training MAE\", mean_absolute_error(model.predict(X_train), y_train))\n",
    "    print(\"Training mean squared error\", mean_squared_error(model.predict(X_train), y_train))\n",
    "\n",
    "\n",
    "    print(\"validation MAE\", mean_absolute_error(y_pred, y_test))\n",
    "    print(\"validation explained variance: r2 ,\",r2_score(y_pred, y_test))\n",
    "    print(\"validation mean squared error\", mean_squared_error(y_pred, y_test))\n",
    "\n",
    "\n",
    "    plt.scatter(y_pred,y_test)\n",
    "    plt.show()"
   ]
  },
  {
   "cell_type": "code",
   "execution_count": 47,
   "id": "26071599",
   "metadata": {},
   "outputs": [],
   "source": [
    "data_input.loc[:, label_name] = data_input.loc[:, label_name].apply(np.log)\n",
    "X_train, X_test, y_train, y_test = train_test_split(model_ready_data.loc[:, model_ready_data.columns!=label_name], data_input.loc[:, label_name], test_size=0.2, random_state=42)\n",
    "\n",
    "scx_train = RobustScaler()\n",
    "scx_test = RobustScaler()\n",
    "\n",
    "X_train = scx_train.fit_transform(X_train)\n",
    "\n",
    "X_test = scx_train.fit_transform(X_test)"
   ]
  },
  {
   "cell_type": "code",
   "execution_count": 48,
   "id": "f1947692",
   "metadata": {
    "scrolled": true
   },
   "outputs": [
    {
     "name": "stdout",
     "output_type": "stream",
     "text": [
      "running with LinearRegression \n",
      "Training MAE 0.03908240812213697\n",
      "Training mean squared error 0.002622185945886247\n",
      "validation MAE 0.038177755937436685\n",
      "validation explained variance: r2 , 0.7023628291644235\n",
      "validation mean squared error 0.002368723104609844\n"
     ]
    },
    {
     "data": {
      "image/png": "[encoded data removed]",
      "text/plain": [
       "<Figure size 432x288 with 1 Axes>"
      ]
     },
     "metadata": {
      "needs_background": "light"
     },
     "output_type": "display_data"
    },
    {
     "name": "stdout",
     "output_type": "stream",
     "text": [
      "running with XGBRegressor \n",
      "Training MAE 0.015050615359770151\n",
      "Training mean squared error 0.00040240929518080976\n",
      "validation MAE 0.03806688924563063\n",
      "validation explained variance: r2 , 0.750835272057324\n",
      "validation mean squared error 0.0023766490181058295\n"
     ]
    },
    {
     "name": "stderr",
     "output_type": "stream",
     "text": [
      "/home/dlolis/.local/lib/python3.8/site-packages/xgboost/data.py:112: UserWarning: Use subset (sliced data) of np.ndarray is not recommended because it will generate extra copies and increase memory consumption\n",
      "  warnings.warn(\n",
      "/home/dlolis/.local/lib/python3.8/site-packages/xgboost/data.py:112: UserWarning: Use subset (sliced data) of np.ndarray is not recommended because it will generate extra copies and increase memory consumption\n",
      "  warnings.warn(\n"
     ]
    },
    {
     "data": {
      "image/png": "[encoded data removed]",
      "text/plain": [
       "<Figure size 432x288 with 1 Axes>"
      ]
     },
     "metadata": {
      "needs_background": "light"
     },
     "output_type": "display_data"
    },
    {
     "name": "stdout",
     "output_type": "stream",
     "text": [
      "running with SVR \n",
      "Training MAE 0.04026345115734616\n",
      "Training mean squared error 0.002392945249587814\n",
      "validation MAE 0.044234568435336345\n",
      "validation explained variance: r2 , 0.6234923085215686\n",
      "validation mean squared error 0.0029145625722714107\n"
     ]
    },
    {
     "data": {
      "image/png": "[encoded data removed]",
      "text/plain": [
       "<Figure size 432x288 with 1 Axes>"
      ]
     },
     "metadata": {
      "needs_background": "light"
     },
     "output_type": "display_data"
    }
   ],
   "source": [
    "for model in [LinearRegression, XGBRegressor, SVR]:\n",
    "    nm = model.__name__\n",
    "    print(\"running with %s \"%nm)\n",
    "    model = model()\n",
    "    model.fit(X_train, y_train)\n",
    "\n",
    "    y_pred = model.predict(X_test)\n",
    "    print(\"Training MAE\", mean_absolute_error(model.predict(X_train), y_train))\n",
    "    print(\"Training mean squared error\", mean_squared_error(model.predict(X_train), y_train))\n",
    "\n",
    "\n",
    "    print(\"validation MAE\", mean_absolute_error(y_pred, y_test))\n",
    "    print(\"validation explained variance: r2 ,\",r2_score(y_pred, y_test))\n",
    "    print(\"validation mean squared error\", mean_squared_error(y_pred, y_test))\n",
    "\n",
    "\n",
    "    plt.scatter(y_pred,y_test)\n",
    "    plt.show()"
   ]
  },
  {
   "cell_type": "markdown",
   "id": "5078898b",
   "metadata": {},
   "source": [
    "Scaling both features and labels with methods that handle outliers seems to produce the best results so far.\n",
    "We can go on and improve our models further by pruning features that deem unecessary using the information gained from\n",
    "the correlation matrices and by producing the feature importances from xgboost"
   ]
  },
  {
   "cell_type": "code",
   "execution_count": null,
   "id": "f07fd954",
   "metadata": {},
   "outputs": [],
   "source": []
  }
 ],
 "metadata": {
  "kernelspec": {
   "display_name": "Python 3",
   "language": "python",
   "name": "python3"
  },
  "language_info": {
   "codemirror_mode": {
    "name": "ipython",
    "version": 3
   },
   "file_extension": ".py",
   "mimetype": "text/x-python",
   "name": "python",
   "nbconvert_exporter": "python",
   "pygments_lexer": "ipython3",
   "version": "3.8.11"
  }
 },
 "nbformat": 4,
 "nbformat_minor": 5
}
