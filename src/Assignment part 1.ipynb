{
 "cells": [
  {
   "cell_type": "markdown",
   "id": "57662786",
   "metadata": {},
   "source": [
    "Task 1. Predict Cars\n",
    "\n",
    "The data file contains sample data from cars. Your target for this task is to predict the\n",
    "price. The end deliverable should be a jupyter notebook. \n",
    "\n",
    "    • Clean, describe and visualize the data \n",
    "    • Prepare the data for modelling (train/test, encoders etc)\n",
    "    • Model and evaluate, show metrics and graphs. \n",
    "    • Describe your approach at each step."
   ]
  },
  {
   "cell_type": "code",
   "execution_count": 1,
   "id": "cc6f7262",
   "metadata": {},
   "outputs": [],
   "source": [
    "import pandas as pd\n",
    "import numpy as np\n",
    "import matplotlib.pyplot as plt\n",
    "from sklearn.preprocessing import OneHotEncoder, LabelEncoder\n",
    "from sklearn.metrics import r2_score, mean_absolute_error, mean_squared_error\n",
    "from collections import Counter\n",
    "from sklearn.model_selection import train_test_split\n",
    "from sklearn.linear_model import LinearRegression\n",
    "from xgboost import XGBRegressor\n",
    "from sklearn.svm import SVR\n",
    "from sklearn.preprocessing import RobustScaler\n",
    "from sklearn.model_selection import GridSearchCV"
   ]
  },
  {
   "cell_type": "code",
   "execution_count": 2,
   "id": "645a625e",
   "metadata": {},
   "outputs": [],
   "source": [
    "import warnings\n",
    "warnings.filterwarnings(action='ignore', category=UserWarning)"
   ]
  },
  {
   "cell_type": "code",
   "execution_count": 3,
   "id": "29e6ce49",
   "metadata": {},
   "outputs": [],
   "source": [
    "data_input = pd.read_csv(\"csv_files/Spotawheel_case_study.csv\")"
   ]
  },
  {
   "cell_type": "code",
   "execution_count": 4,
   "id": "ef700bab",
   "metadata": {},
   "outputs": [
    {
     "data": {
      "text/html": [
       "<div>\n",
       "<style scoped>\n",
       "    .dataframe tbody tr th:only-of-type {\n",
       "        vertical-align: middle;\n",
       "    }\n",
       "\n",
       "    .dataframe tbody tr th {\n",
       "        vertical-align: top;\n",
       "    }\n",
       "\n",
       "    .dataframe thead th {\n",
       "        text-align: right;\n",
       "    }\n",
       "</style>\n",
       "<table border=\"1\" class=\"dataframe\">\n",
       "  <thead>\n",
       "    <tr style=\"text-align: right;\">\n",
       "      <th></th>\n",
       "      <th>Name</th>\n",
       "      <th>Kilometers_Driven</th>\n",
       "      <th>Fuel_Type</th>\n",
       "      <th>Transmission</th>\n",
       "      <th>Owner_Type</th>\n",
       "      <th>Mileage</th>\n",
       "      <th>Engine</th>\n",
       "      <th>Power</th>\n",
       "      <th>Seats</th>\n",
       "      <th>Price</th>\n",
       "      <th>Age</th>\n",
       "    </tr>\n",
       "  </thead>\n",
       "  <tbody>\n",
       "    <tr>\n",
       "      <th>0</th>\n",
       "      <td>Hyundai i10 Era</td>\n",
       "      <td>60000</td>\n",
       "      <td>Petrol</td>\n",
       "      <td>Manual</td>\n",
       "      <td>2</td>\n",
       "      <td>19.81</td>\n",
       "      <td>1086</td>\n",
       "      <td>68.05</td>\n",
       "      <td>5</td>\n",
       "      <td>2650.0</td>\n",
       "      <td>9</td>\n",
       "    </tr>\n",
       "    <tr>\n",
       "      <th>1</th>\n",
       "      <td>Toyota Fortuner 4x2 Manual</td>\n",
       "      <td>73500</td>\n",
       "      <td>Diesel</td>\n",
       "      <td>Manual</td>\n",
       "      <td>1</td>\n",
       "      <td>13.00</td>\n",
       "      <td>2982</td>\n",
       "      <td>168.50</td>\n",
       "      <td>7</td>\n",
       "      <td>22000.0</td>\n",
       "      <td>6</td>\n",
       "    </tr>\n",
       "    <tr>\n",
       "      <th>2</th>\n",
       "      <td>Mercedes-Benz E-Class 230 E AT</td>\n",
       "      <td>28888</td>\n",
       "      <td>Petrol</td>\n",
       "      <td>Automatic</td>\n",
       "      <td>1</td>\n",
       "      <td>10.00</td>\n",
       "      <td>2496</td>\n",
       "      <td>157.70</td>\n",
       "      <td>5</td>\n",
       "      <td>7560.0</td>\n",
       "      <td>12</td>\n",
       "    </tr>\n",
       "    <tr>\n",
       "      <th>3</th>\n",
       "      <td>Volkswagen Polo Petrol Trendline 1.2L</td>\n",
       "      <td>41000</td>\n",
       "      <td>Petrol</td>\n",
       "      <td>Manual</td>\n",
       "      <td>1</td>\n",
       "      <td>16.47</td>\n",
       "      <td>1198</td>\n",
       "      <td>73.90</td>\n",
       "      <td>5</td>\n",
       "      <td>3100.0</td>\n",
       "      <td>9</td>\n",
       "    </tr>\n",
       "    <tr>\n",
       "      <th>4</th>\n",
       "      <td>Land Rover Range Rover Evoque 2.0 TD4 HSE Dynamic</td>\n",
       "      <td>52000</td>\n",
       "      <td>Diesel</td>\n",
       "      <td>Automatic</td>\n",
       "      <td>1</td>\n",
       "      <td>15.68</td>\n",
       "      <td>1999</td>\n",
       "      <td>177.00</td>\n",
       "      <td>5</td>\n",
       "      <td>42000.0</td>\n",
       "      <td>5</td>\n",
       "    </tr>\n",
       "  </tbody>\n",
       "</table>\n",
       "</div>"
      ],
      "text/plain": [
       "                                                Name  Kilometers_Driven  \\\n",
       "0                                    Hyundai i10 Era              60000   \n",
       "1                         Toyota Fortuner 4x2 Manual              73500   \n",
       "2                     Mercedes-Benz E-Class 230 E AT              28888   \n",
       "3              Volkswagen Polo Petrol Trendline 1.2L              41000   \n",
       "4  Land Rover Range Rover Evoque 2.0 TD4 HSE Dynamic              52000   \n",
       "\n",
       "  Fuel_Type Transmission  Owner_Type  Mileage  Engine   Power  Seats    Price  \\\n",
       "0    Petrol       Manual           2    19.81    1086   68.05      5   2650.0   \n",
       "1    Diesel       Manual           1    13.00    2982  168.50      7  22000.0   \n",
       "2    Petrol    Automatic           1    10.00    2496  157.70      5   7560.0   \n",
       "3    Petrol       Manual           1    16.47    1198   73.90      5   3100.0   \n",
       "4    Diesel    Automatic           1    15.68    1999  177.00      5  42000.0   \n",
       "\n",
       "   Age  \n",
       "0    9  \n",
       "1    6  \n",
       "2   12  \n",
       "3    9  \n",
       "4    5  "
      ]
     },
     "execution_count": 4,
     "metadata": {},
     "output_type": "execute_result"
    }
   ],
   "source": [
    "data_input.head()"
   ]
  },
  {
   "cell_type": "markdown",
   "id": "942edf26",
   "metadata": {},
   "source": [
    "The first task that we ought to do is to see the distribution of our labels\n",
    "for possible outliers that could be extracted from our training dataset."
   ]
  },
  {
   "cell_type": "code",
   "execution_count": 5,
   "id": "4ee3707f",
   "metadata": {},
   "outputs": [
    {
     "name": "stdout",
     "output_type": "stream",
     "text": [
      "dataset shape is (4907, 11)\n",
      "unique Owner_Type 4\n",
      "unique transmission 2\n",
      "unique fuel type 4\n"
     ]
    }
   ],
   "source": [
    "print(\"dataset shape is\", data_input.shape)\n",
    "print(\"unique Owner_Type\",len(data_input.loc[:, \"Owner_Type\"].unique()))\n",
    "print(\"unique transmission\",len(data_input.loc[:, \"Transmission\"].unique()))\n",
    "print(\"unique fuel type\",len(data_input.loc[:, \"Fuel_Type\"].unique()))"
   ]
  },
  {
   "cell_type": "code",
   "execution_count": 6,
   "id": "3b393aa9",
   "metadata": {},
   "outputs": [],
   "source": [
    "label_name = \"Price\"\n",
    "categorical_variables = [\"Fuel_Type\", \"Transmission\", \"Owner_Type\"]\n",
    "continuous_variables = [\"Kilometers_Driven\", \"Mileage\", \"Power\", \"Engine\", \"Seats\"]"
   ]
  },
  {
   "cell_type": "code",
   "execution_count": 7,
   "id": "5e10ef4a",
   "metadata": {},
   "outputs": [],
   "source": [
    "# Check the distribution of the label"
   ]
  },
  {
   "cell_type": "code",
   "execution_count": 8,
   "id": "89342f20",
   "metadata": {},
   "outputs": [
    {
     "data": {
      "text/plain": [
       "<AxesSubplot:>"
      ]
     },
     "execution_count": 8,
     "metadata": {},
     "output_type": "execute_result"
    },
    {
     "data": {
      "image/png": "[encoded data removed]",
      "text/plain": [
       "<Figure size 1440x360 with 1 Axes>"
      ]
     },
     "metadata": {
      "needs_background": "light"
     },
     "output_type": "display_data"
    }
   ],
   "source": [
    "data_input.loc[:, \"Price\"].hist(figsize=(20,5), bins=200)"
   ]
  },
  {
   "cell_type": "markdown",
   "id": "2714c9e1",
   "metadata": {},
   "source": [
    "The distribution is obviously skewed so we it seems rather obvious that we could easily drop some obvious outliers."
   ]
  },
  {
   "cell_type": "code",
   "execution_count": 9,
   "id": "e9f48971",
   "metadata": {},
   "outputs": [
    {
     "data": {
      "text/plain": [
       "<AxesSubplot:>"
      ]
     },
     "execution_count": 9,
     "metadata": {},
     "output_type": "execute_result"
    },
    {
     "data": {
      "image/png": "[encoded data removed]",
      "text/plain": [
       "<Figure size 432x288 with 1 Axes>"
      ]
     },
     "metadata": {
      "needs_background": "light"
     },
     "output_type": "display_data"
    }
   ],
   "source": [
    "data_input.boxplot(column=[label_name])"
   ]
  },
  {
   "cell_type": "code",
   "execution_count": 10,
   "id": "a43c31df",
   "metadata": {},
   "outputs": [
    {
     "name": "stdout",
     "output_type": "stream",
     "text": [
      "1661\n"
     ]
    }
   ],
   "source": [
    "# the unique names of the cars are\n",
    "print(len(data_input[\"Name\"].unique()))\n",
    "# if there weren't so many they could actually have proven useful as a feature.\n",
    "# But if we tried to use them, due to the curse of dimentionality we would definately had a serious problem with our model."
   ]
  },
  {
   "cell_type": "markdown",
   "id": "4546aa7e",
   "metadata": {},
   "source": [
    "The way we could actually take advantage of this feature is by extracting the actual brand of the car alone \n",
    "and check if it actually helps the model perform better"
   ]
  },
  {
   "cell_type": "code",
   "execution_count": 11,
   "id": "ecf9f1d6",
   "metadata": {},
   "outputs": [],
   "source": [
    "names = [i.lower().split(\" \") for i in data_input[\"Name\"].unique()]\n",
    "syllabi = [j for i in names for j in i]\n",
    "set_syllabi = set(syllabi)\n",
    "counter_syllabi = Counter(syllabi)\n",
    "counter_syllabi = list(counter_syllabi.items())\n",
    "counter_syllabi = sorted([(i[-1],i[0]) for i in counter_syllabi])"
   ]
  },
  {
   "cell_type": "code",
   "execution_count": 12,
   "id": "37a850dd",
   "metadata": {
    "scrolled": true
   },
   "outputs": [
    {
     "data": {
      "text/plain": [
       "[(270, 'maruti'),\n",
       " (239, 'hyundai'),\n",
       " (162, 'at'),\n",
       " (140, 'honda'),\n",
       " (116, 'tdi'),\n",
       " (107, '1.2'),\n",
       " (106, 'toyota'),\n",
       " (106, 'mercedes-benz'),\n",
       " (99, 'ford'),\n",
       " (95, 'tata'),\n",
       " (95, 'diesel'),\n",
       " (94, 'mahindra'),\n",
       " (93, 'plus'),\n",
       " (89, 'mt'),\n",
       " (78, '1.6'),\n",
       " (77, 'skoda'),\n",
       " (76, 'bmw'),\n",
       " (73, 's'),\n",
       " (71, '1.5'),\n",
       " (66, 'crdi'),\n",
       " (66, '1.4'),\n",
       " (64, 'i20'),\n",
       " (63, 'volkswagen'),\n",
       " (63, 'audi'),\n",
       " (62, '2.0'),\n",
       " (59, 'option'),\n",
       " (58, 'vxi'),\n",
       " (55, 'sx'),\n",
       " (53, 'lxi'),\n",
       " (52, 'swift'),\n",
       " (50, 'series'),\n",
       " (47, 'verna'),\n",
       " (47, 'petrol'),\n",
       " (47, 'city'),\n",
       " (45, 'i10'),\n",
       " (44, 'cdi'),\n",
       " (43, 'sport'),\n",
       " (42, 'edition'),\n",
       " (40, 'rover'),\n",
       " (40, 'bsiii'),\n",
       " (39, 'vx'),\n",
       " (39, 'nissan'),\n",
       " (39, 'innova'),\n",
       " (38, 'titanium'),\n",
       " (38, 'renault'),\n",
       " (38, 'chevrolet'),\n",
       " (37, 'new'),\n",
       " (36, 'zxi'),\n",
       " (36, 'i'),\n",
       " (35, 'v'),\n",
       " (35, 'bsiv'),\n",
       " (35, 'asta'),\n",
       " (35, '200'),\n",
       " (33, 'seater'),\n",
       " (33, 'elegance'),\n",
       " (32, 'sportz'),\n",
       " (32, 'scorpio'),\n",
       " (32, 'r'),\n",
       " (32, 'magna'),\n",
       " (31, 'wagon'),\n",
       " (31, 'e-class'),\n",
       " (30, 'dzire'),\n",
       " (30, 'bs'),\n",
       " (29, 'mpi'),\n",
       " (29, 'highline'),\n",
       " (29, 'figo'),\n",
       " (29, 'c-class'),\n",
       " (29, '7'),\n",
       " (28, 'vdi'),\n",
       " (28, 'grand'),\n",
       " (28, '2.5'),\n",
       " (28, '1.8'),\n",
       " (27, 'premium'),\n",
       " (26, 'rapid'),\n",
       " (26, 'land'),\n",
       " (26, 'ecosport'),\n",
       " (26, 'e'),\n",
       " (25, 'quattro'),\n",
       " (25, 'iv'),\n",
       " (25, 'corolla'),\n",
       " (25, 'alto'),\n",
       " (25, '1.3'),\n",
       " (24, 'zdi'),\n",
       " (24, 'vento'),\n",
       " (24, 'optional'),\n",
       " (24, 'lx'),\n",
       " (24, 'etios'),\n",
       " (24, 'amt'),\n",
       " (23, 'vtvt'),\n",
       " (23, 'abs'),\n",
       " (23, '5'),\n",
       " (23, '3'),\n",
       " (22, 'ls'),\n",
       " (22, 'ciaz'),\n",
       " (21, 'd'),\n",
       " (21, 'c'),\n",
       " (21, 'ambition'),\n",
       " (21, 'amaze'),\n",
       " (21, '4x4'),\n",
       " (21, '2.4'),\n",
       " (20, 'xv'),\n",
       " (20, 'altis'),\n",
       " (20, '4x2'),\n",
       " (19, 'polo'),\n",
       " (19, 'indica'),\n",
       " (19, 'ex'),\n",
       " (19, 'dtec'),\n",
       " (19, 'class'),\n",
       " (19, '35'),\n",
       " (19, '(diesel)'),\n",
       " (18, 'xcent'),\n",
       " (18, 'g'),\n",
       " (18, 'fiesta'),\n",
       " (18, 'baleno'),\n",
       " (18, 'active'),\n",
       " (18, '8'),\n",
       " (18, '2wd'),\n",
       " (17, 'xl'),\n",
       " (17, 'vtec'),\n",
       " (17, 'tdci'),\n",
       " (17, 'rxl'),\n",
       " (17, 'jazz'),\n",
       " (17, 'cvt'),\n",
       " (16, 'quadrajet'),\n",
       " (16, 'mitsubishi'),\n",
       " (16, 'indigo'),\n",
       " (16, 'duster'),\n",
       " (16, 'comfortline'),\n",
       " (16, 'celerio'),\n",
       " (16, 'a4'),\n",
       " (16, '1.0'),\n",
       " (15, 'fiat'),\n",
       " (15, 'creta'),\n",
       " (15, 'alpha'),\n",
       " (15, '2015-2017'),\n",
       " (15, '2.8'),\n",
       " (14, 'zen'),\n",
       " (14, 'xuv500'),\n",
       " (14, 'tsi'),\n",
       " (14, 'trend'),\n",
       " (14, 'technology'),\n",
       " (14, 'superb'),\n",
       " (14, 'revotron'),\n",
       " (14, 'range'),\n",
       " (14, 'octavia'),\n",
       " (14, 'micra'),\n",
       " (14, 'ldi'),\n",
       " (14, 'avantgarde'),\n",
       " (14, 'ambiente'),\n",
       " (14, '4wd'),\n",
       " (14, '3.0'),\n",
       " (14, '1.1'),\n",
       " (13, 'se'),\n",
       " (13, 'safari'),\n",
       " (13, 'lt'),\n",
       " (13, 'laura'),\n",
       " (13, 'kappa'),\n",
       " (13, 'i-vtec'),\n",
       " (13, 'ertiga'),\n",
       " (13, 'endeavour'),\n",
       " (13, 'dual'),\n",
       " (13, 'a6'),\n",
       " (13, '800'),\n",
       " (13, '2009-2013'),\n",
       " (12, 'with'),\n",
       " (12, 'volvo'),\n",
       " (12, 'trendline'),\n",
       " (12, 'tone'),\n",
       " (12, 'sx4'),\n",
       " (12, 'ritz'),\n",
       " (12, 'luxury'),\n",
       " (12, 'limited'),\n",
       " (12, 'gx'),\n",
       " (12, 'gls'),\n",
       " (12, 'ddis'),\n",
       " (12, 'cng'),\n",
       " (12, 'classic'),\n",
       " (12, 'brio'),\n",
       " (12, 'accord'),\n",
       " (12, '2.2'),\n",
       " (12, '1.9'),\n",
       " (11, 'xdrive'),\n",
       " (11, 'vlx'),\n",
       " (11, 'vitara'),\n",
       " (11, 'v2'),\n",
       " (11, 'terrano'),\n",
       " (11, 'style'),\n",
       " (11, 'pajero'),\n",
       " (11, 'mini'),\n",
       " (11, 'hse'),\n",
       " (11, 'fortuner'),\n",
       " (11, 'exi'),\n",
       " (11, 'eon'),\n",
       " (11, 'crysta'),\n",
       " (11, 'cr-v'),\n",
       " (11, 'cooper'),\n",
       " (11, '320d'),\n",
       " (11, '220'),\n",
       " (11, '2015-2019'),\n",
       " (10, 'zx'),\n",
       " (10, 'zeta'),\n",
       " (10, 'xylo'),\n",
       " (10, 'xt'),\n",
       " (10, 'sunny'),\n",
       " (10, 'str'),\n",
       " (10, 'sedan'),\n",
       " (10, 'manza'),\n",
       " (10, 'm'),\n",
       " (10, 'line'),\n",
       " (10, 'cross'),\n",
       " (10, 'bsii'),\n",
       " (10, 'aspire'),\n",
       " (10, '2.0l'),\n",
       " (9, 'q5'),\n",
       " (9, 'porsche'),\n",
       " (9, 'nano'),\n",
       " (9, 'kwid'),\n",
       " (9, 'kuv'),\n",
       " (9, 'jetta'),\n",
       " (9, 'jaguar'),\n",
       " (9, 'emotion'),\n",
       " (9, 'datsun'),\n",
       " (9, 'd4'),\n",
       " (9, 'cgi'),\n",
       " (9, '350'),\n",
       " (9, '20d'),\n",
       " (9, '2011-2015'),\n",
       " (9, '100'),\n",
       " (8, 'x1'),\n",
       " (8, 'std'),\n",
       " (8, 'q7'),\n",
       " (8, 'q3'),\n",
       " (8, 'ps'),\n",
       " (8, 'omni'),\n",
       " (8, 'liva'),\n",
       " (8, 'linea'),\n",
       " (8, 'l'),\n",
       " (8, 'era'),\n",
       " (8, 'elantra'),\n",
       " (8, 'e250'),\n",
       " (8, 'dicor'),\n",
       " (8, 'civic'),\n",
       " (8, 'brezza'),\n",
       " (8, '2013'),\n",
       " (8, '110ps'),\n",
       " (7, 'zest'),\n",
       " (7, 'x5'),\n",
       " (7, 'x3'),\n",
       " (7, 'transform'),\n",
       " (7, 'tfsi'),\n",
       " (7, 'td4'),\n",
       " (7, 'sv'),\n",
       " (7, 'sunroof'),\n",
       " (7, 'shvs'),\n",
       " (7, 'rxz'),\n",
       " (7, 'optra'),\n",
       " (7, 'mobilio'),\n",
       " (7, 'mfalcon'),\n",
       " (7, 'k10'),\n",
       " (7, 'jeep'),\n",
       " (7, 'gle'),\n",
       " (7, 'gl'),\n",
       " (7, 'gd'),\n",
       " (7, 'fabia'),\n",
       " (7, 'executive'),\n",
       " (7, 'estilo'),\n",
       " (7, 'delta'),\n",
       " (7, 'cr'),\n",
       " (7, 'coupe'),\n",
       " (7, 'compass'),\n",
       " (7, 'bolero'),\n",
       " (7, 'beat'),\n",
       " (7, 'airbag'),\n",
       " (7, 'accent'),\n",
       " (7, '85ps'),\n",
       " (7, '2012-2015'),\n",
       " (7, '1.99'),\n",
       " (6, 'xf'),\n",
       " (6, 'xe'),\n",
       " (6, 'vista'),\n",
       " (6, 'vct'),\n",
       " (6, 'tiago'),\n",
       " (6, 'ti'),\n",
       " (6, 't'),\n",
       " (6, 'sonata'),\n",
       " (6, 'rs'),\n",
       " (6, 'punto'),\n",
       " (6, 'mhawk'),\n",
       " (6, 'magnum'),\n",
       " (6, 'ikon'),\n",
       " (6, 'i-vtech'),\n",
       " (6, 'i-dtec'),\n",
       " (6, 'go'),\n",
       " (6, 'gla'),\n",
       " (6, 'freelander'),\n",
       " (6, 'enjoy'),\n",
       " (6, 'duratorq'),\n",
       " (6, 'duratec'),\n",
       " (6, 'discovery'),\n",
       " (6, 'd75'),\n",
       " (6, 'celebration'),\n",
       " (6, 'aveo'),\n",
       " (6, 'automatic'),\n",
       " (6, 'aura'),\n",
       " (6, 'ameo'),\n",
       " (6, 'ac'),\n",
       " (6, '530d'),\n",
       " (6, '4matic'),\n",
       " (6, '300'),\n",
       " (6, '250'),\n",
       " (6, '2009-2014'),\n",
       " (6, '2005'),\n",
       " (6, '2003-2012'),\n",
       " (6, '2'),\n",
       " (6, '1.5d'),\n",
       " (6, '1.2l'),\n",
       " (5, 'xz'),\n",
       " (5, 'w8'),\n",
       " (5, 'w10'),\n",
       " (5, 'tuv'),\n",
       " (5, 't8'),\n",
       " (5, 'storme'),\n",
       " (5, 'slx'),\n",
       " (5, 'sdrive'),\n",
       " (5, 'santro'),\n",
       " (5, 'santa'),\n",
       " (5, 's10'),\n",
       " (5, 'pure'),\n",
       " (5, 'ml'),\n",
       " (5, 'm-class'),\n",
       " (5, 'ltz'),\n",
       " (5, 'leather'),\n",
       " (5, 'grande'),\n",
       " (5, 'glx'),\n",
       " (5, 'glc'),\n",
       " (5, 'getz'),\n",
       " (5, 'fe'),\n",
       " (5, 'exclusive'),\n",
       " (5, 'ecs'),\n",
       " (5, 'e350'),\n",
       " (5, 'dynamic'),\n",
       " (5, 'dls'),\n",
       " (5, 'design'),\n",
       " (5, 'cs'),\n",
       " (5, 'cla'),\n",
       " (5, 'camry'),\n",
       " (5, 'be'),\n",
       " (5, 'avn'),\n",
       " (5, '7s'),\n",
       " (5, '730ld'),\n",
       " (5, '520d'),\n",
       " (5, '320'),\n",
       " (5, '220d'),\n",
       " (5, '2006-2010'),\n",
       " (5, '2.6'),\n",
       " (5, '110'),\n",
       " (5, '(o)'),\n",
       " (4, 'xm'),\n",
       " (4, 'xline'),\n",
       " (4, 'xing'),\n",
       " (4, 'vogue'),\n",
       " (4, 'vl'),\n",
       " (4, 'ti-vct'),\n",
       " (4, 'tcdi'),\n",
       " (4, 'sp'),\n",
       " (4, 'sle'),\n",
       " (4, 'sfx'),\n",
       " (4, 'sail'),\n",
       " (4, 'rxt'),\n",
       " (4, 'quanto'),\n",
       " (4, 'panamera'),\n",
       " (4, 'lite'),\n",
       " (4, 'kompressor'),\n",
       " (4, 'k'),\n",
       " (4, 'iii'),\n",
       " (4, 'ii'),\n",
       " (4, 'ignis'),\n",
       " (4, 'gt'),\n",
       " (4, 'elite'),\n",
       " (4, 'eeco'),\n",
       " (4, 'ecoboost'),\n",
       " (4, 'dx'),\n",
       " (4, 'dv5'),\n",
       " (4, 'duo'),\n",
       " (4, 'd5'),\n",
       " (4, 'crde'),\n",
       " (4, 'convertible'),\n",
       " (4, 'cayenne'),\n",
       " (4, 'base'),\n",
       " (4, 'awd'),\n",
       " (4, 'alloy'),\n",
       " (4, 'a3'),\n",
       " (4, 'a-star'),\n",
       " (4, 'a'),\n",
       " (4, '8s'),\n",
       " (4, '6'),\n",
       " (4, '30d'),\n",
       " (4, '30'),\n",
       " (4, '2016-2019'),\n",
       " (4, '2012-2014'),\n",
       " (4, '2011-2014'),\n",
       " (4, '2007-2011'),\n",
       " (4, '1.2p'),\n",
       " (3, 'zlx'),\n",
       " (3, 'yeti'),\n",
       " (3, 'xta'),\n",
       " (3, 'xlt'),\n",
       " (3, 'xdrive20d'),\n",
       " (3, 'xc60'),\n",
       " (3, 'x6'),\n",
       " (3, 'w4'),\n",
       " (3, 'w/'),\n",
       " (3, 'vti-l'),\n",
       " (3, 'vd'),\n",
       " (3, 'v6'),\n",
       " (3, 'v40'),\n",
       " (3, 'turbo'),\n",
       " (3, 'tucson'),\n",
       " (3, 'trd'),\n",
       " (3, 'tigor'),\n",
       " (3, 'thar'),\n",
       " (3, 'tdv8'),\n",
       " (3, 'sumo'),\n",
       " (3, 'summum'),\n",
       " (3, 'sportivo'),\n",
       " (3, 'sh'),\n",
       " (3, 's60'),\n",
       " (3, 's-cross'),\n",
       " (3, 's-class'),\n",
       " (3, 'redi-go'),\n",
       " (3, 'pulse'),\n",
       " (3, 'primo'),\n",
       " (3, 'prestige'),\n",
       " (3, 'pack'),\n",
       " (3, 'nxt'),\n",
       " (3, 'minor'),\n",
       " (3, 'm/t'),\n",
       " (3, 'lpg'),\n",
       " (3, 'logan'),\n",
       " (3, 'litre'),\n",
       " (3, 'k8'),\n",
       " (3, 'k4'),\n",
       " (3, 'itech'),\n",
       " (3, 'ipl'),\n",
       " (3, 'hatchback'),\n",
       " (3, 'green'),\n",
       " (3, 'gdi'),\n",
       " (3, 'g80'),\n",
       " (3, 'fwd'),\n",
       " (3, 'fsi'),\n",
       " (3, 'els'),\n",
       " (3, 'efficiency'),\n",
       " (3, 'e4'),\n",
       " (3, 'door'),\n",
       " (3, 'd3'),\n",
       " (3, 'countryman'),\n",
       " (3, 'corporate'),\n",
       " (3, 'clxi'),\n",
       " (3, 'bs3'),\n",
       " (3, 'bolt'),\n",
       " (3, 'blue'),\n",
       " (3, 'black'),\n",
       " (3, 'b'),\n",
       " (3, 'aqua'),\n",
       " (3, 'anniversary'),\n",
       " (3, 'amg'),\n",
       " (3, '525d'),\n",
       " (3, '350d'),\n",
       " (3, '3.6'),\n",
       " (3, '3.2'),\n",
       " (3, '280'),\n",
       " (3, '230'),\n",
       " (3, '2013-2017'),\n",
       " (3, '2010-2013'),\n",
       " (3, '2007-2012'),\n",
       " (3, '2.4l'),\n",
       " (3, '2.2l'),\n",
       " (3, '1.2t'),\n",
       " (3, '1.1l'),\n",
       " (3, '1'),\n",
       " (3, '-'),\n",
       " (3, '(cng)'),\n",
       " (3, '(at)'),\n",
       " (2, 'z4'),\n",
       " (2, 'xxi'),\n",
       " (2, 'xdrive30d'),\n",
       " (2, 'xc90'),\n",
       " (2, 'x-trail'),\n",
       " (2, 'vxd'),\n",
       " (2, 'vgt'),\n",
       " (2, 'verito'),\n",
       " (2, 'v8'),\n",
       " (2, 'ultima'),\n",
       " (2, 'u-va'),\n",
       " (2, 'tdv6'),\n",
       " (2, 'tc'),\n",
       " (2, 'tavera'),\n",
       " (2, 'stingray'),\n",
       " (2, 'ssangyong'),\n",
       " (2, 'sports'),\n",
       " (2, 'spark'),\n",
       " (2, 'signature'),\n",
       " (2, 'sigma'),\n",
       " (2, 'sd4'),\n",
       " (2, 'scala'),\n",
       " (2, 'safire'),\n",
       " (2, 's8'),\n",
       " (2, 's6'),\n",
       " (2, 's4'),\n",
       " (2, 'rexton'),\n",
       " (2, 'revotorq'),\n",
       " (2, 'r350'),\n",
       " (2, 'r-class'),\n",
       " (2, 'qualis'),\n",
       " (2, 'quadrajet90'),\n",
       " (2, 'progressive'),\n",
       " (2, 'portfolio'),\n",
       " (2, 'platinum'),\n",
       " (2, 'passat'),\n",
       " (2, 'paseo'),\n",
       " (2, 'package'),\n",
       " (2, 'o'),\n",
       " (2, 'nuvosport'),\n",
       " (2, 'nexon'),\n",
       " (2, 'multitronic'),\n",
       " (2, 'multijet'),\n",
       " (2, 'mhawk100'),\n",
       " (2, 'matrix'),\n",
       " (2, 'le'),\n",
       " (2, 'lancer'),\n",
       " (2, 'l&k'),\n",
       " (2, 'k6'),\n",
       " (2, 'j'),\n",
       " (2, 'isuzu'),\n",
       " (2, 'i-dtech'),\n",
       " (2, 'hybrid'),\n",
       " (2, 'hexa'),\n",
       " (2, 'h4'),\n",
       " (2, 'gxi'),\n",
       " (2, 'gran'),\n",
       " (2, 'gl-class'),\n",
       " (2, 'g4'),\n",
       " (2, 'fs'),\n",
       " (2, 'fluence'),\n",
       " (2, 'experience'),\n",
       " (2, 'evoque'),\n",
       " (2, 'evo'),\n",
       " (2, 'embera'),\n",
       " (2, 'elx'),\n",
       " (2, 'e8'),\n",
       " (2, 'dle'),\n",
       " (2, 'di'),\n",
       " (2, 'd-4d'),\n",
       " (2, 'cx'),\n",
       " (2, 'cruze'),\n",
       " (2, 'club'),\n",
       " (2, 'climber'),\n",
       " (2, 'captur'),\n",
       " (2, 'captiva'),\n",
       " (2, 'brv'),\n",
       " (2, 'br-v'),\n",
       " (2, 'bhp'),\n",
       " (2, 'b3'),\n",
       " (2, 'b200'),\n",
       " (2, 'avantgrade'),\n",
       " (2, 'and'),\n",
       " (2, 'aero'),\n",
       " (2, 'a7'),\n",
       " (2, 'a180'),\n",
       " (2, 'a/t'),\n",
       " (2, '85'),\n",
       " (2, '8-seater'),\n",
       " (2, '75ps'),\n",
       " (2, '740li'),\n",
       " (2, '7-seater'),\n",
       " (2, '640d'),\n",
       " (2, '5str'),\n",
       " (2, '500'),\n",
       " (2, '45'),\n",
       " (2, '43'),\n",
       " (2, '40d'),\n",
       " (2, '4.2'),\n",
       " (2, '4'),\n",
       " (2, '320i'),\n",
       " (2, '3.0l'),\n",
       " (2, '2013-2015'),\n",
       " (2, '2012'),\n",
       " (2, '2010'),\n",
       " (2, '2008-2012'),\n",
       " (2, '2007-2015'),\n",
       " (2, '2001-2003'),\n",
       " (2, '2.7'),\n",
       " (2, '2.5l'),\n",
       " (2, '177'),\n",
       " (2, '118d'),\n",
       " (2, '1.4l'),\n",
       " (2, '(tdi)'),\n",
       " (2, '(petrol)'),\n",
       " (1, 'z'),\n",
       " (1, 'xza'),\n",
       " (1, 'xuv300'),\n",
       " (1, 'xms'),\n",
       " (1, 'xj'),\n",
       " (1, 'xi'),\n",
       " (1, 'xenon'),\n",
       " (1, 'wt20'),\n",
       " (1, 'wrv'),\n",
       " (1, 'wo'),\n",
       " (1, 'wheel'),\n",
       " (1, 'w9'),\n",
       " (1, 'w7'),\n",
       " (1, 'w6'),\n",
       " (1, 'w'),\n",
       " (1, 'vvt'),\n",
       " (1, 'vti'),\n",
       " (1, 'versa'),\n",
       " (1, 'venture'),\n",
       " (1, 'vcdi'),\n",
       " (1, 'v-cross'),\n",
       " (1, 'type'),\n",
       " (1, 'twist'),\n",
       " (1, 'tt'),\n",
       " (1, 'tour'),\n",
       " (1, 'tiptronic'),\n",
       " (1, 'tiguan'),\n",
       " (1, 'teana'),\n",
       " (1, 'td6'),\n",
       " (1, 't-jet'),\n",
       " (1, 'sxi'),\n",
       " (1, 'sun'),\n",
       " (1, 'standard'),\n",
       " (1, 'spur'),\n",
       " (1, 'spotz'),\n",
       " (1, 'sportline'),\n",
       " (1, 'sportback'),\n",
       " (1, 'speed'),\n",
       " (1, 'smiles'),\n",
       " (1, 'slk-class'),\n",
       " (1, 'slc'),\n",
       " (1, 'sl-class'),\n",
       " (1, 'sl'),\n",
       " (1, 'sfxi'),\n",
       " (1, 'select'),\n",
       " (1, 'seats'),\n",
       " (1, 'sdv8'),\n",
       " (1, 'sdrive20d'),\n",
       " (1, 'safety'),\n",
       " (1, 's80'),\n",
       " (1, 's2'),\n",
       " (1, 'rxe'),\n",
       " (1, 'rx7'),\n",
       " (1, 'rx5'),\n",
       " (1, 'rvi'),\n",
       " (1, 'rs5'),\n",
       " (1, 'royale'),\n",
       " (1, 'roof'),\n",
       " (1, 'roadster'),\n",
       " (1, 'rider'),\n",
       " (1, 'redi'),\n",
       " (1, 'pre'),\n",
       " (1, 'platine'),\n",
       " (1, 'pd'),\n",
       " (1, 'p'),\n",
       " (1, 'outlander'),\n",
       " (1, 'opt'),\n",
       " (1, 'one'),\n",
       " (1, 'nova'),\n",
       " (1, 'nav'),\n",
       " (1, 'n8'),\n",
       " (1, 'n6'),\n",
       " (1, 'n'),\n",
       " (1, 'mux'),\n",
       " (1, 'mustang'),\n",
       " (1, 'ms'),\n",
       " (1, 'montero'),\n",
       " (1, 'mono'),\n",
       " (1, 'momentum'),\n",
       " (1, 'maxx'),\n",
       " (1, 'manual'),\n",
       " (1, 'magnific'),\n",
       " (1, 'magna(o)'),\n",
       " (1, 'lwb'),\n",
       " (1, 'ltd'),\n",
       " (1, 'longitude'),\n",
       " (1, 'long'),\n",
       " (1, 'lodgy'),\n",
       " (1, 'lhd'),\n",
       " (1, 'leisure'),\n",
       " (1, 'lei'),\n",
       " (1, 'launch'),\n",
       " (1, 'lamborghini'),\n",
       " (1, 'konekt'),\n",
       " (1, 'koleos'),\n",
       " (1, 'kinetic'),\n",
       " (1, 'k2'),\n",
       " (1, 'js'),\n",
       " (1, 'jet'),\n",
       " (1, 'inspire'),\n",
       " (1, 'immobiliser'),\n",
       " (1, 'icc'),\n",
       " (1, 'hurricane'),\n",
       " (1, 'htr'),\n",
       " (1, 'high'),\n",
       " (1, 'h2'),\n",
       " (1, 'gxd'),\n",
       " (1, 'gvs'),\n",
       " (1, 'gti'),\n",
       " (1, 'gold'),\n",
       " (1, 'glxd'),\n",
       " (1, 'gallardo'),\n",
       " (1, 'g3'),\n",
       " (1, 'g1'),\n",
       " (1, 'fusion'),\n",
       " (1, 'freestyle'),\n",
       " (1, 'force'),\n",
       " (1, 'flying'),\n",
       " (1, 'flair'),\n",
       " (1, 'facelift'),\n",
       " (1, 'f'),\n",
       " (1, 'explorer'),\n",
       " (1, 'explore'),\n",
       " (1, 'expedition'),\n",
       " (1, 'excellence'),\n",
       " (1, 'evx'),\n",
       " (1, 'evalia'),\n",
       " (1, 'ev'),\n",
       " (1, 'esteem'),\n",
       " (1, 'eminence'),\n",
       " (1, 'emax'),\n",
       " (1, 'elan'),\n",
       " (1, 'egvx'),\n",
       " (1, 'eglx'),\n",
       " (1, 'e400'),\n",
       " (1, 'e270'),\n",
       " (1, 'e200'),\n",
       " (1, 'e2'),\n",
       " (1, 'e-vgt'),\n",
       " (1, 'dx2'),\n",
       " (1, 'dualtone'),\n",
       " (1, 'dsg'),\n",
       " (1, 'dlx'),\n",
       " (1, 'dlg'),\n",
       " (1, 'dl'),\n",
       " (1, 'dg'),\n",
       " (1, 'delux'),\n",
       " (1, 'd70'),\n",
       " (1, 'd6'),\n",
       " (1, 'd4dj'),\n",
       " (1, 'd4dg'),\n",
       " (1, 'd2'),\n",
       " (1, 'd-max'),\n",
       " (1, 'crz'),\n",
       " (1, 'crosspolo'),\n",
       " (1, 'country'),\n",
       " (1, 'continental'),\n",
       " (1, 'command'),\n",
       " (1, 'clubman'),\n",
       " (1, 'ci'),\n",
       " (1, 'cedia'),\n",
       " (1, 'cbu'),\n",
       " (1, 'cargo'),\n",
       " (1, 'carbon'),\n",
       " (1, 'cabriolet'),\n",
       " (1, 'c8'),\n",
       " (1, 'c6'),\n",
       " (1, 'c4'),\n",
       " (1, 'c250'),\n",
       " (1, 'c220'),\n",
       " (1, 'c2'),\n",
       " (1, 'bs-iii'),\n",
       " (1, 'breeze'),\n",
       " (1, 'boxster'),\n",
       " (1, 'blacktop'),\n",
       " (1, 'bentley'),\n",
       " (1, 'beetle'),\n",
       " (1, 'b2'),\n",
       " (1, 'b180'),\n",
       " (1, 'avventura'),\n",
       " (1, 'avantgare'),\n",
       " (1, 'attraction'),\n",
       " (1, 'amt1.2'),\n",
       " (1, 'ambassador'),\n",
       " (1, 'aktiv'),\n",
       " (1, 'ags'),\n",
       " (1, 'adventure'),\n",
       " (1, 'advantage'),\n",
       " (1, 'a8'),\n",
       " (1, 'a200'),\n",
       " (1, '90'),\n",
       " (1, '9'),\n",
       " (1, '7str'),\n",
       " (1, '750li'),\n",
       " (1, '630i'),\n",
       " (1, '55'),\n",
       " (1, '540i'),\n",
       " (1, '523i'),\n",
       " (1, '5.0'),\n",
       " (1, '4s'),\n",
       " (1, '4d'),\n",
       " (1, '4.4'),\n",
       " (1, '35i'),\n",
       " (1, '330d'),\n",
       " (1, '330'),\n",
       " (1, '328i'),\n",
       " (1, '325i'),\n",
       " (1, '318i'),\n",
       " (1, '3.0d'),\n",
       " (1, '250hp'),\n",
       " (1, '250d'),\n",
       " (1, '220cdibe'),\n",
       " (1, '210'),\n",
       " (1, '2014-2019'),\n",
       " (1, '2014'),\n",
       " (1, '2013-2016'),\n",
       " (1, '2010-2014'),\n",
       " (1, '2008-2013'),\n",
       " (1, '2007-2010'),\n",
       " (1, '2007'),\n",
       " (1, '2005-2011'),\n",
       " (1, '2001-2011'),\n",
       " (1, '2.5i'),\n",
       " (1, '2.3'),\n",
       " (1, '18i'),\n",
       " (1, '16'),\n",
       " (1, '10'),\n",
       " (1, '1.6l'),\n",
       " (1, '1.5p'),\n",
       " (1, '1.05'),\n",
       " (1, '(he)'),\n",
       " (1, '(e)'),\n",
       " (1, '(abs)')]"
      ]
     },
     "execution_count": 12,
     "metadata": {},
     "output_type": "execute_result"
    }
   ],
   "source": [
    "counter_syllabi[::-1]"
   ]
  },
  {
   "cell_type": "code",
   "execution_count": 13,
   "id": "b63145b7",
   "metadata": {},
   "outputs": [],
   "source": [
    "# it is obvious that we could manually hand pick the brands of the cars, but since those names weren't in a sentence\n",
    "# we can't do it in a non manual way (we could use NER instead)."
   ]
  },
  {
   "cell_type": "code",
   "execution_count": 14,
   "id": "a6d83665",
   "metadata": {},
   "outputs": [
    {
     "data": {
      "image/png": "[encoded data removed]",
      "text/plain": [
       "<Figure size 1440x360 with 1 Axes>"
      ]
     },
     "metadata": {
      "needs_background": "light"
     },
     "output_type": "display_data"
    },
    {
     "data": {
      "image/png": "[encoded data removed]",
      "text/plain": [
       "<Figure size 1440x360 with 1 Axes>"
      ]
     },
     "metadata": {
      "needs_background": "light"
     },
     "output_type": "display_data"
    },
    {
     "data": {
      "image/png": "[encoded data removed]",
      "text/plain": [
       "<Figure size 1440x360 with 1 Axes>"
      ]
     },
     "metadata": {
      "needs_background": "light"
     },
     "output_type": "display_data"
    },
    {
     "data": {
      "image/png": "[encoded data removed]",
      "text/plain": [
       "<Figure size 1440x360 with 1 Axes>"
      ]
     },
     "metadata": {
      "needs_background": "light"
     },
     "output_type": "display_data"
    },
    {
     "data": {
      "image/png": "[encoded data removed]",
      "text/plain": [
       "<Figure size 1440x360 with 1 Axes>"
      ]
     },
     "metadata": {
      "needs_background": "light"
     },
     "output_type": "display_data"
    }
   ],
   "source": [
    "for i in continuous_variables:\n",
    "    data_input.loc[:, i].hist(figsize=(20,5), bins=200, legend=i)\n",
    "    plt.show()"
   ]
  },
  {
   "cell_type": "markdown",
   "id": "8e65f9b1",
   "metadata": {},
   "source": [
    "Now we have to check wether there is a correlation between our features and our labels using scatter plots"
   ]
  },
  {
   "cell_type": "code",
   "execution_count": 15,
   "id": "fc2e6045",
   "metadata": {},
   "outputs": [
    {
     "data": {
      "image/png": "[encoded data removed]",
      "text/plain": [
       "<Figure size 432x288 with 1 Axes>"
      ]
     },
     "metadata": {
      "needs_background": "light"
     },
     "output_type": "display_data"
    },
    {
     "data": {
      "image/png": "[encoded data removed]",
      "text/plain": [
       "<Figure size 432x288 with 1 Axes>"
      ]
     },
     "metadata": {
      "needs_background": "light"
     },
     "output_type": "display_data"
    },
    {
     "data": {
      "image/png": "[encoded data removed]",
      "text/plain": [
       "<Figure size 432x288 with 1 Axes>"
      ]
     },
     "metadata": {
      "needs_background": "light"
     },
     "output_type": "display_data"
    },
    {
     "data": {
      "image/png": "[encoded data removed]",
      "text/plain": [
       "<Figure size 432x288 with 1 Axes>"
      ]
     },
     "metadata": {
      "needs_background": "light"
     },
     "output_type": "display_data"
    },
    {
     "data": {
      "image/png": "[encoded data removed]",
      "text/plain": [
       "<Figure size 432x288 with 1 Axes>"
      ]
     },
     "metadata": {
      "needs_background": "light"
     },
     "output_type": "display_data"
    }
   ],
   "source": [
    "for i in continuous_variables:\n",
    "    plt.title(\"scatter plot %s - label\"%i)\n",
    "    plt.scatter(data_input.loc[:, i].values, data_input.loc[:, label_name].values)\n",
    "    plt.show()"
   ]
  },
  {
   "cell_type": "markdown",
   "id": "d73b949c",
   "metadata": {},
   "source": [
    "There seems to be a severe correlation of Power and price"
   ]
  },
  {
   "cell_type": "markdown",
   "id": "d8ce1a85",
   "metadata": {},
   "source": [
    "before we go any further and prepare for our model we need to encode all our categorical variables"
   ]
  },
  {
   "cell_type": "code",
   "execution_count": 16,
   "id": "b8e6a8ce",
   "metadata": {},
   "outputs": [],
   "source": [
    "data_input = data_input.loc[:, data_input.columns != \"Name\"]"
   ]
  },
  {
   "cell_type": "code",
   "execution_count": 17,
   "id": "a96765b8",
   "metadata": {},
   "outputs": [
    {
     "data": {
      "text/html": [
       "<div>\n",
       "<style scoped>\n",
       "    .dataframe tbody tr th:only-of-type {\n",
       "        vertical-align: middle;\n",
       "    }\n",
       "\n",
       "    .dataframe tbody tr th {\n",
       "        vertical-align: top;\n",
       "    }\n",
       "\n",
       "    .dataframe thead th {\n",
       "        text-align: right;\n",
       "    }\n",
       "</style>\n",
       "<table border=\"1\" class=\"dataframe\">\n",
       "  <thead>\n",
       "    <tr style=\"text-align: right;\">\n",
       "      <th></th>\n",
       "      <th>Kilometers_Driven</th>\n",
       "      <th>Mileage</th>\n",
       "      <th>Power</th>\n",
       "      <th>Engine</th>\n",
       "      <th>Seats</th>\n",
       "    </tr>\n",
       "  </thead>\n",
       "  <tbody>\n",
       "    <tr>\n",
       "      <th>count</th>\n",
       "      <td>4907.000000</td>\n",
       "      <td>4907.000000</td>\n",
       "      <td>4907.000000</td>\n",
       "      <td>4907.000000</td>\n",
       "      <td>4907.000000</td>\n",
       "    </tr>\n",
       "    <tr>\n",
       "      <th>mean</th>\n",
       "      <td>57325.883432</td>\n",
       "      <td>18.280715</td>\n",
       "      <td>112.853436</td>\n",
       "      <td>1621.659874</td>\n",
       "      <td>5.279193</td>\n",
       "    </tr>\n",
       "    <tr>\n",
       "      <th>std</th>\n",
       "      <td>38433.648533</td>\n",
       "      <td>4.391050</td>\n",
       "      <td>53.763071</td>\n",
       "      <td>599.531875</td>\n",
       "      <td>0.798172</td>\n",
       "    </tr>\n",
       "    <tr>\n",
       "      <th>min</th>\n",
       "      <td>171.000000</td>\n",
       "      <td>0.000000</td>\n",
       "      <td>34.200000</td>\n",
       "      <td>624.000000</td>\n",
       "      <td>2.000000</td>\n",
       "    </tr>\n",
       "    <tr>\n",
       "      <th>25%</th>\n",
       "      <td>33000.000000</td>\n",
       "      <td>15.260000</td>\n",
       "      <td>74.980000</td>\n",
       "      <td>1198.000000</td>\n",
       "      <td>5.000000</td>\n",
       "    </tr>\n",
       "    <tr>\n",
       "      <th>50%</th>\n",
       "      <td>53000.000000</td>\n",
       "      <td>18.200000</td>\n",
       "      <td>94.000000</td>\n",
       "      <td>1493.000000</td>\n",
       "      <td>5.000000</td>\n",
       "    </tr>\n",
       "    <tr>\n",
       "      <th>75%</th>\n",
       "      <td>72467.000000</td>\n",
       "      <td>21.100000</td>\n",
       "      <td>138.100000</td>\n",
       "      <td>1968.000000</td>\n",
       "      <td>5.000000</td>\n",
       "    </tr>\n",
       "    <tr>\n",
       "      <th>max</th>\n",
       "      <td>775000.000000</td>\n",
       "      <td>33.540000</td>\n",
       "      <td>560.000000</td>\n",
       "      <td>5998.000000</td>\n",
       "      <td>10.000000</td>\n",
       "    </tr>\n",
       "  </tbody>\n",
       "</table>\n",
       "</div>"
      ],
      "text/plain": [
       "       Kilometers_Driven      Mileage        Power       Engine        Seats\n",
       "count        4907.000000  4907.000000  4907.000000  4907.000000  4907.000000\n",
       "mean        57325.883432    18.280715   112.853436  1621.659874     5.279193\n",
       "std         38433.648533     4.391050    53.763071   599.531875     0.798172\n",
       "min           171.000000     0.000000    34.200000   624.000000     2.000000\n",
       "25%         33000.000000    15.260000    74.980000  1198.000000     5.000000\n",
       "50%         53000.000000    18.200000    94.000000  1493.000000     5.000000\n",
       "75%         72467.000000    21.100000   138.100000  1968.000000     5.000000\n",
       "max        775000.000000    33.540000   560.000000  5998.000000    10.000000"
      ]
     },
     "execution_count": 17,
     "metadata": {},
     "output_type": "execute_result"
    }
   ],
   "source": [
    "data_input.loc[:, continuous_variables].describe()"
   ]
  },
  {
   "cell_type": "markdown",
   "id": "46bc9c52",
   "metadata": {},
   "source": [
    "Show the correlation between the continuous data and the label. Correlation does not imply causation but we do get a very strong sense of the important features here, features with more variance tend to give more information to the  model."
   ]
  },
  {
   "cell_type": "code",
   "execution_count": 18,
   "id": "d28a4494",
   "metadata": {},
   "outputs": [
    {
     "data": {
      "text/plain": [
       "Kilometers_Driven   -0.163542\n",
       "Mileage             -0.338404\n",
       "Power                0.774266\n",
       "Engine               0.658710\n",
       "Seats                0.052659\n",
       "Price                1.000000\n",
       "Name: Price, dtype: float64"
      ]
     },
     "execution_count": 18,
     "metadata": {},
     "output_type": "execute_result"
    }
   ],
   "source": [
    "data_input.loc[:, continuous_variables+[\"Price\"]].corr()[label_name]"
   ]
  },
  {
   "cell_type": "code",
   "execution_count": 19,
   "id": "f17dbd1a",
   "metadata": {},
   "outputs": [],
   "source": [
    "cat_df = data_input.loc[:, categorical_variables].copy()"
   ]
  },
  {
   "cell_type": "code",
   "execution_count": 20,
   "id": "81f402cb",
   "metadata": {},
   "outputs": [
    {
     "data": {
      "text/html": [
       "<div>\n",
       "<style scoped>\n",
       "    .dataframe tbody tr th:only-of-type {\n",
       "        vertical-align: middle;\n",
       "    }\n",
       "\n",
       "    .dataframe tbody tr th {\n",
       "        vertical-align: top;\n",
       "    }\n",
       "\n",
       "    .dataframe thead th {\n",
       "        text-align: right;\n",
       "    }\n",
       "</style>\n",
       "<table border=\"1\" class=\"dataframe\">\n",
       "  <thead>\n",
       "    <tr style=\"text-align: right;\">\n",
       "      <th></th>\n",
       "      <th>Fuel_Type</th>\n",
       "      <th>Transmission</th>\n",
       "      <th>Owner_Type</th>\n",
       "    </tr>\n",
       "  </thead>\n",
       "  <tbody>\n",
       "    <tr>\n",
       "      <th>0</th>\n",
       "      <td>3</td>\n",
       "      <td>1</td>\n",
       "      <td>1</td>\n",
       "    </tr>\n",
       "    <tr>\n",
       "      <th>1</th>\n",
       "      <td>1</td>\n",
       "      <td>1</td>\n",
       "      <td>0</td>\n",
       "    </tr>\n",
       "    <tr>\n",
       "      <th>2</th>\n",
       "      <td>3</td>\n",
       "      <td>0</td>\n",
       "      <td>0</td>\n",
       "    </tr>\n",
       "    <tr>\n",
       "      <th>3</th>\n",
       "      <td>3</td>\n",
       "      <td>1</td>\n",
       "      <td>0</td>\n",
       "    </tr>\n",
       "    <tr>\n",
       "      <th>4</th>\n",
       "      <td>1</td>\n",
       "      <td>0</td>\n",
       "      <td>0</td>\n",
       "    </tr>\n",
       "    <tr>\n",
       "      <th>...</th>\n",
       "      <td>...</td>\n",
       "      <td>...</td>\n",
       "      <td>...</td>\n",
       "    </tr>\n",
       "    <tr>\n",
       "      <th>4902</th>\n",
       "      <td>1</td>\n",
       "      <td>1</td>\n",
       "      <td>1</td>\n",
       "    </tr>\n",
       "    <tr>\n",
       "      <th>4903</th>\n",
       "      <td>1</td>\n",
       "      <td>0</td>\n",
       "      <td>0</td>\n",
       "    </tr>\n",
       "    <tr>\n",
       "      <th>4904</th>\n",
       "      <td>1</td>\n",
       "      <td>0</td>\n",
       "      <td>0</td>\n",
       "    </tr>\n",
       "    <tr>\n",
       "      <th>4905</th>\n",
       "      <td>3</td>\n",
       "      <td>1</td>\n",
       "      <td>0</td>\n",
       "    </tr>\n",
       "    <tr>\n",
       "      <th>4906</th>\n",
       "      <td>3</td>\n",
       "      <td>1</td>\n",
       "      <td>0</td>\n",
       "    </tr>\n",
       "  </tbody>\n",
       "</table>\n",
       "<p>4907 rows × 3 columns</p>\n",
       "</div>"
      ],
      "text/plain": [
       "      Fuel_Type  Transmission  Owner_Type\n",
       "0             3             1           1\n",
       "1             1             1           0\n",
       "2             3             0           0\n",
       "3             3             1           0\n",
       "4             1             0           0\n",
       "...         ...           ...         ...\n",
       "4902          1             1           1\n",
       "4903          1             0           0\n",
       "4904          1             0           0\n",
       "4905          3             1           0\n",
       "4906          3             1           0\n",
       "\n",
       "[4907 rows x 3 columns]"
      ]
     },
     "execution_count": 20,
     "metadata": {},
     "output_type": "execute_result"
    }
   ],
   "source": [
    "cat_df.apply(LabelEncoder().fit_transform)"
   ]
  },
  {
   "cell_type": "code",
   "execution_count": 21,
   "id": "a25bba87",
   "metadata": {},
   "outputs": [],
   "source": [
    "enc = OneHotEncoder()\n",
    "enc.fit(cat_df)\n",
    "onehotlabels = enc.transform(cat_df).toarray()"
   ]
  },
  {
   "cell_type": "code",
   "execution_count": 22,
   "id": "557d972c",
   "metadata": {},
   "outputs": [],
   "source": [
    "model_ready_data = pd.concat([data_input.loc[:, continuous_variables],pd.DataFrame(onehotlabels)],axis=1)\n",
    "model_ready_data = pd.concat([model_ready_data, data_input.loc[:, label_name]], axis=1)"
   ]
  },
  {
   "cell_type": "code",
   "execution_count": 23,
   "id": "c03961e4",
   "metadata": {},
   "outputs": [],
   "source": [
    "X_train, X_test, y_train, y_test = train_test_split(model_ready_data.loc[:, model_ready_data.columns!=label_name], data_input.loc[:, label_name], test_size=0.2, random_state=42)"
   ]
  },
  {
   "cell_type": "markdown",
   "id": "5ad71214",
   "metadata": {},
   "source": [
    "first run without any scaling/outlier removal etc"
   ]
  },
  {
   "cell_type": "code",
   "execution_count": 24,
   "id": "aee0565c",
   "metadata": {},
   "outputs": [
    {
     "name": "stdout",
     "output_type": "stream",
     "text": [
      "running with LinearRegression \n",
      "Training MAE 3823.7358066570805\n",
      "Training mean squared error 40483169.40653551\n",
      "validation MAE 4093.1546961260456\n",
      "validation explained variance: r2 , 0.32310240998061224\n",
      "validation mean squared error 60072906.6642027\n",
      "lr coefs\n",
      "['Kilometers_Driven', 'Mileage', 'Power', 'Engine', 'Seats', 0, 1, 2, 3, 4, 5, 6, 7, 8, 9]\n",
      "[-0.04656115499402622, 60.73615533737824, 132.6853486813396, 0.647073708897075, -204.12214979275552, 570.2102752204954, 1014.096790178177, 673.3042196222966, -2257.6112850209693, 1643.8928899019115, -1643.8928899019127, 1463.6595002831418, -367.32262901549694, -643.747335863111, -452.5895354045339]\n"
     ]
    },
    {
     "data": {
      "image/png": "[encoded data removed]",
      "text/plain": [
       "<Figure size 432x288 with 1 Axes>"
      ]
     },
     "metadata": {
      "needs_background": "light"
     },
     "output_type": "display_data"
    },
    {
     "name": "stdout",
     "output_type": "stream",
     "text": [
      "running with XGBRegressor \n",
      "Training MAE 928.0847986695113\n",
      "Training mean squared error 1902124.446454145\n",
      "validation MAE 2262.5060433506237\n",
      "validation explained variance: r2 , 0.7986895427144798\n",
      "validation mean squared error 25823205.903634854\n"
     ]
    },
    {
     "data": {
      "image/png": "[encoded data removed]",
      "text/plain": [
       "<Figure size 432x288 with 1 Axes>"
      ]
     },
     "metadata": {
      "needs_background": "light"
     },
     "output_type": "display_data"
    },
    {
     "name": "stdout",
     "output_type": "stream",
     "text": [
      "running with SVR \n",
      "Training MAE 5938.170098988444\n",
      "Training mean squared error 136250287.9500156\n",
      "validation MAE 6559.170987121804\n",
      "validation explained variance: r2 , -19151.476097941348\n",
      "validation mean squared error 182324961.29892996\n"
     ]
    },
    {
     "data": {
      "image/png": "[encoded data removed]",
      "text/plain": [
       "<Figure size 432x288 with 1 Axes>"
      ]
     },
     "metadata": {
      "needs_background": "light"
     },
     "output_type": "display_data"
    }
   ],
   "source": [
    "for model in [LinearRegression, XGBRegressor, SVR]:\n",
    "    nm = model.__name__\n",
    "    print(\"running with %s \"%nm)\n",
    "    model = model()\n",
    "    model.fit(X_train, y_train)\n",
    "\n",
    "    y_pred = model.predict(X_test)\n",
    "    print(\"Training MAE\", mean_absolute_error(model.predict(X_train), y_train))\n",
    "    print(\"Training mean squared error\", mean_squared_error(model.predict(X_train), y_train))\n",
    "\n",
    "\n",
    "    print(\"validation MAE\", mean_absolute_error(y_pred, y_test))\n",
    "    print(\"validation explained variance: r2 ,\",r2_score(y_pred, y_test))\n",
    "    print(\"validation mean squared error\", mean_squared_error(y_pred, y_test))\n",
    "\n",
    "    if \"linear\" in nm.lower():\n",
    "        print(\"lr coefs\")\n",
    "        print(list(X_train.columns))\n",
    "        print(list(model.coef_))\n",
    "\n",
    "    plt.scatter(y_pred,y_test)\n",
    "    plt.show()"
   ]
  },
  {
   "cell_type": "code",
   "execution_count": 25,
   "id": "df1ddecb",
   "metadata": {},
   "outputs": [],
   "source": [
    "# obviously fails because SVMs' are very sensitive to unscaled data."
   ]
  },
  {
   "cell_type": "markdown",
   "id": "e58a98bd",
   "metadata": {},
   "source": [
    "Before feeding it to models we will have to scale them in order not to punish the other features.\n",
    "But it is paramount to create two scalers in order not to have information leakage.\n",
    "\n",
    "We use RobustScaler since it's better on handling outliers"
   ]
  },
  {
   "cell_type": "code",
   "execution_count": null,
   "id": "4395bc2e",
   "metadata": {},
   "outputs": [],
   "source": []
  },
  {
   "cell_type": "code",
   "execution_count": 26,
   "id": "a8413f1c",
   "metadata": {},
   "outputs": [],
   "source": [
    "scx_train = RobustScaler()\n",
    "scx_test = RobustScaler()\n",
    "\n",
    "scy_train = RobustScaler()\n",
    "scy_test = RobustScaler()\n",
    "\n",
    "\n",
    "X_train_scaled = scx_train.fit_transform(X_train)\n",
    "y_train_scaled = scy_train.fit_transform(y_train.values.reshape(-1,1))\n",
    "\n",
    "\n",
    "X_test_scaled = scx_test.fit_transform(X_test)\n",
    "y_test_scaled = scy_test.fit_transform(y_test.values.reshape(-1,1))\n"
   ]
  },
  {
   "cell_type": "code",
   "execution_count": 27,
   "id": "ddd99cad",
   "metadata": {},
   "outputs": [
    {
     "name": "stdout",
     "output_type": "stream",
     "text": [
      "running with LinearRegression \n",
      "val mae 4613.931120878418\n",
      "val r2 0.5296492219996984\n",
      "val mean squared error 61394447.72988577\n"
     ]
    },
    {
     "data": {
      "image/png": "[encoded data removed]",
      "text/plain": [
       "<Figure size 432x288 with 1 Axes>"
      ]
     },
     "metadata": {
      "needs_background": "light"
     },
     "output_type": "display_data"
    },
    {
     "name": "stdout",
     "output_type": "stream",
     "text": [
      "running with XGBRegressor \n",
      "val mae 3259.700651770939\n",
      "val r2 0.7667767813674233\n",
      "val mean squared error 41288769.401311114\n"
     ]
    },
    {
     "data": {
      "image/png": "[encoded data removed]",
      "text/plain": [
       "<Figure size 432x288 with 1 Axes>"
      ]
     },
     "metadata": {
      "needs_background": "light"
     },
     "output_type": "display_data"
    },
    {
     "name": "stdout",
     "output_type": "stream",
     "text": [
      "running with SVR \n",
      "val mae 3022.749816835749\n",
      "val r2 0.6504990291945678\n",
      "val mean squared error 41696677.01972495\n"
     ]
    },
    {
     "data": {
      "image/png": "[encoded data removed]",
      "text/plain": [
       "<Figure size 432x288 with 1 Axes>"
      ]
     },
     "metadata": {
      "needs_background": "light"
     },
     "output_type": "display_data"
    }
   ],
   "source": [
    "for model in [LinearRegression, XGBRegressor, SVR]:\n",
    "    nm = model.__name__\n",
    "    print(\"running with %s \"%nm)\n",
    "    model = model()\n",
    "    model.fit(X_train_scaled, y_train_scaled)\n",
    "    y_pred = model.predict(X_test_scaled)\n",
    "    \n",
    "    \n",
    "    tp = (scy_test.inverse_transform(y_pred.reshape(-1,1)), \n",
    "          scy_test.inverse_transform(y_test_scaled.reshape(-1,1))\n",
    "         )\n",
    "    \n",
    "    print(\"val mae\", mean_absolute_error(tp[0], tp[1]))\n",
    "    print(\"val r2\", r2_score(tp[0], tp[1]))\n",
    "    print(\"val mean squared error\", mean_squared_error(tp[0], tp[1]))\n",
    "    \n",
    "    plt.scatter(y_pred,y_test)\n",
    "    plt.show()"
   ]
  },
  {
   "cell_type": "markdown",
   "id": "cbf67f11",
   "metadata": {},
   "source": [
    "In order to fix the outliers on the labels we put the in log function"
   ]
  },
  {
   "cell_type": "code",
   "execution_count": 28,
   "id": "0778b483",
   "metadata": {},
   "outputs": [],
   "source": [
    "data_input.loc[:, label_name] = data_input.loc[:, label_name].apply(np.log)\n",
    "X_train, X_test, y_train, y_test = train_test_split(model_ready_data.loc[:, model_ready_data.columns!=label_name], data_input.loc[:, label_name], test_size=0.2, random_state=42)"
   ]
  },
  {
   "cell_type": "markdown",
   "id": "e855eabe",
   "metadata": {},
   "source": [
    "using log transformation on the labels we eliminate the outliers, but since our features *also have outliers* we can still use RobustScaler on them"
   ]
  },
  {
   "cell_type": "code",
   "execution_count": 29,
   "id": "70830bd1",
   "metadata": {},
   "outputs": [
    {
     "name": "stdout",
     "output_type": "stream",
     "text": [
      "running with LinearRegression \n",
      "Training MAE 3354.6654559677877\n",
      "Training mean squared error 211153935.7534298\n",
      "validation MAE 3597.0587910887384\n",
      "validation explained variance: r2 , 0.7140830410738848\n",
      "validation mean squared error 66388081.22624618\n"
     ]
    },
    {
     "data": {
      "image/png": "[encoded data removed]",
      "text/plain": [
       "<Figure size 432x288 with 1 Axes>"
      ]
     },
     "metadata": {
      "needs_background": "light"
     },
     "output_type": "display_data"
    },
    {
     "name": "stdout",
     "output_type": "stream",
     "text": [
      "running with XGBRegressor \n",
      "Training MAE 1056.025234460527\n",
      "Training mean squared error 211151434.54248506\n",
      "validation MAE 2255.3023011621294\n",
      "validation explained variance: r2 , 0.8706776656237705\n",
      "validation mean squared error 30556251.08547934\n"
     ]
    },
    {
     "data": {
      "image/png": "[encoded data removed]",
      "text/plain": [
       "<Figure size 432x288 with 1 Axes>"
      ]
     },
     "metadata": {
      "needs_background": "light"
     },
     "output_type": "display_data"
    },
    {
     "name": "stdout",
     "output_type": "stream",
     "text": [
      "running with SVR \n",
      "Training MAE 5199.297228829814\n",
      "Training mean squared error 211164317.55087277\n",
      "validation MAE 5721.385793395838\n",
      "validation explained variance: r2 , -5.495002144118483\n",
      "validation mean squared error 145304040.74163148\n"
     ]
    },
    {
     "data": {
      "image/png": "[encoded data removed]",
      "text/plain": [
       "<Figure size 432x288 with 1 Axes>"
      ]
     },
     "metadata": {
      "needs_background": "light"
     },
     "output_type": "display_data"
    }
   ],
   "source": [
    "for model in [LinearRegression, XGBRegressor, SVR]:\n",
    "    nm = model.__name__\n",
    "    print(\"running with %s \"%nm)\n",
    "    model = model()\n",
    "    model.fit(X_train, y_train)\n",
    "\n",
    "    y_pred = model.predict(X_test)\n",
    "    print(\"Training MAE\", mean_absolute_error(np.exp(model.predict(X_train)), np.exp(y_train)))\n",
    "    print(\"Training mean squared error\", mean_squared_error(model.predict(X_train), np.exp(y_train)))\n",
    "\n",
    "\n",
    "    print(\"validation MAE\", mean_absolute_error(np.exp(y_pred), np.exp(y_test)))\n",
    "    print(\"validation explained variance: r2 ,\",r2_score(y_pred, y_test))\n",
    "    print(\"validation mean squared error\", mean_squared_error(np.exp(y_pred), np.exp(y_test)))\n",
    "\n",
    "\n",
    "    plt.scatter(y_pred,y_test)\n",
    "    plt.show()"
   ]
  },
  {
   "cell_type": "markdown",
   "id": "7ddcef47",
   "metadata": {},
   "source": [
    "scale and put labels on log"
   ]
  },
  {
   "cell_type": "code",
   "execution_count": 30,
   "id": "f29d49c5",
   "metadata": {},
   "outputs": [],
   "source": [
    "X_train, X_test, y_train, y_test = train_test_split(model_ready_data.loc[:, model_ready_data.columns!=label_name], data_input.loc[:, label_name], test_size=0.2, random_state=42)\n",
    "\n",
    "scx_train = RobustScaler()\n",
    "scx_test = RobustScaler()\n",
    "\n",
    "X_train = scx_train.fit_transform(X_train)\n",
    "\n",
    "X_test = scx_train.fit_transform(X_test)"
   ]
  },
  {
   "cell_type": "code",
   "execution_count": 31,
   "id": "0ea45018",
   "metadata": {
    "scrolled": false
   },
   "outputs": [
    {
     "name": "stdout",
     "output_type": "stream",
     "text": [
      "running with LinearRegression \n",
      "Training MAE 3354.6654559677736\n",
      "Training mean squared error 85867424.52594972\n",
      "validation MAE 3659.0703314925418\n",
      "validation explained variance: r2 , 0.7205557191976204\n",
      "validation mean squared error 70546113.22402279\n"
     ]
    },
    {
     "data": {
      "image/png": "[encoded data removed]",
      "text/plain": [
       "<Figure size 432x288 with 1 Axes>"
      ]
     },
     "metadata": {
      "needs_background": "light"
     },
     "output_type": "display_data"
    },
    {
     "name": "stdout",
     "output_type": "stream",
     "text": [
      "running with XGBRegressor \n",
      "Training MAE 1056.025234460527\n",
      "Training mean squared error 3671013.040017501\n",
      "validation MAE 3025.3802129741593\n",
      "validation explained variance: r2 , 0.7636522837235783\n",
      "validation mean squared error 36981052.622081146\n"
     ]
    },
    {
     "data": {
      "image/png": "[encoded data removed]",
      "text/plain": [
       "<Figure size 432x288 with 1 Axes>"
      ]
     },
     "metadata": {
      "needs_background": "light"
     },
     "output_type": "display_data"
    },
    {
     "name": "stdout",
     "output_type": "stream",
     "text": [
      "running with SVR \n",
      "Training MAE 2412.4180766623435\n",
      "Training mean squared error 22668298.758538157\n",
      "validation MAE 2829.2898369588665\n",
      "validation explained variance: r2 , 0.7983908546400694\n",
      "validation mean squared error 43231683.54336309\n"
     ]
    },
    {
     "data": {
      "image/png": "[encoded data removed]",
      "text/plain": [
       "<Figure size 432x288 with 1 Axes>"
      ]
     },
     "metadata": {
      "needs_background": "light"
     },
     "output_type": "display_data"
    }
   ],
   "source": [
    "for model in [LinearRegression, XGBRegressor, SVR]:\n",
    "    nm = model.__name__\n",
    "    print(\"running with %s \"%nm)\n",
    "    model = model()\n",
    "    model.fit(X_train, y_train)\n",
    "\n",
    "    y_pred = model.predict(X_test)\n",
    "    print(\"Training MAE\", mean_absolute_error(np.exp(model.predict(X_train)), np.exp(y_train)))\n",
    "    print(\"Training mean squared error\", mean_squared_error(np.exp(model.predict(X_train)), np.exp(y_train)))\n",
    "\n",
    "\n",
    "    print(\"validation MAE\", mean_absolute_error(np.exp(y_pred), np.exp(y_test)))\n",
    "    print(\"validation explained variance: r2 ,\",r2_score(y_pred, y_test))\n",
    "    print(\"validation mean squared error\", mean_squared_error(np.exp(y_pred), np.exp(y_test)))\n",
    "\n",
    "\n",
    "    plt.scatter(y_pred,y_test)\n",
    "    plt.show()"
   ]
  },
  {
   "cell_type": "markdown",
   "id": "6977302f",
   "metadata": {},
   "source": [
    "Scaling both features and labels with methods that handle outliers seems to produce the best results so far.\n",
    "We can go on and improve our models further by pruning features that deem unecessary using the information gained from\n",
    "the correlation matrices and by producing the feature importances from xgboost"
   ]
  },
  {
   "cell_type": "markdown",
   "id": "6ebcfd28",
   "metadata": {},
   "source": [
    "The best model was by far XGBoost when i applied log on the labels (smoothed the outliers)."
   ]
  },
  {
   "cell_type": "code",
   "execution_count": 32,
   "id": "6bd0d427",
   "metadata": {},
   "outputs": [
    {
     "name": "stdout",
     "output_type": "stream",
     "text": [
      "Fitting 5 folds for each of 36 candidates, totalling 180 fits\n"
     ]
    }
   ],
   "source": [
    "\n",
    "parameters = {\n",
    "    \"learning_rate\": [0.005, 0.01, 0.09],\n",
    "    \"max_depth\": [4, 5, 6, 7],\n",
    "    \"n_estimators\": [100, 500, 1000]\n",
    "}\n",
    "\n",
    "dt = model_ready_data.loc[:, :].copy()\n",
    "\n",
    "X_train, X_test, y_train, y_test = train_test_split(dt.loc[:, dt.columns!=label_name], data_input.loc[:, label_name], test_size=0.2, random_state=42)\n",
    "\n",
    "\n",
    "xgbr = GridSearchCV(XGBRegressor(), param_grid=parameters, cv=5, verbose=1)\n",
    "xgbr.fit(X_train, y_train)\n",
    "y_pred = xgbr.predict(X_test)\n"
   ]
  },
  {
   "cell_type": "code",
   "execution_count": 33,
   "id": "3a0514a5",
   "metadata": {},
   "outputs": [
    {
     "name": "stdout",
     "output_type": "stream",
     "text": [
      "validation MAE 2266.7945909674927\n",
      "validation explained variance: r2 , 0.8699555180409699\n",
      "validation mean squared error 31901936.39881933\n"
     ]
    }
   ],
   "source": [
    "print(\"validation MAE\", mean_absolute_error(np.exp(y_pred), np.exp(y_test)))\n",
    "print(\"validation explained variance: r2 ,\",r2_score(y_pred, y_test))\n",
    "print(\"validation mean squared error\", mean_squared_error(np.exp(y_pred), np.exp(y_test)))"
   ]
  },
  {
   "cell_type": "code",
   "execution_count": 34,
   "id": "566e3266",
   "metadata": {},
   "outputs": [
    {
     "data": {
      "text/html": [
       "<div>\n",
       "<style scoped>\n",
       "    .dataframe tbody tr th:only-of-type {\n",
       "        vertical-align: middle;\n",
       "    }\n",
       "\n",
       "    .dataframe tbody tr th {\n",
       "        vertical-align: top;\n",
       "    }\n",
       "\n",
       "    .dataframe thead th {\n",
       "        text-align: right;\n",
       "    }\n",
       "</style>\n",
       "<table border=\"1\" class=\"dataframe\">\n",
       "  <thead>\n",
       "    <tr style=\"text-align: right;\">\n",
       "      <th></th>\n",
       "      <th>Kilometers_Driven</th>\n",
       "      <th>Mileage</th>\n",
       "      <th>Power</th>\n",
       "      <th>Engine</th>\n",
       "      <th>Seats</th>\n",
       "      <th>0</th>\n",
       "      <th>1</th>\n",
       "      <th>2</th>\n",
       "      <th>3</th>\n",
       "      <th>4</th>\n",
       "      <th>5</th>\n",
       "      <th>6</th>\n",
       "      <th>7</th>\n",
       "      <th>8</th>\n",
       "      <th>9</th>\n",
       "      <th>Price</th>\n",
       "    </tr>\n",
       "  </thead>\n",
       "  <tbody>\n",
       "    <tr>\n",
       "      <th>0</th>\n",
       "      <td>60000</td>\n",
       "      <td>19.81</td>\n",
       "      <td>68.05</td>\n",
       "      <td>1086</td>\n",
       "      <td>5</td>\n",
       "      <td>0.0</td>\n",
       "      <td>0.0</td>\n",
       "      <td>0.0</td>\n",
       "      <td>1.0</td>\n",
       "      <td>0.0</td>\n",
       "      <td>1.0</td>\n",
       "      <td>0.0</td>\n",
       "      <td>1.0</td>\n",
       "      <td>0.0</td>\n",
       "      <td>0.0</td>\n",
       "      <td>2650.0</td>\n",
       "    </tr>\n",
       "    <tr>\n",
       "      <th>1</th>\n",
       "      <td>73500</td>\n",
       "      <td>13.00</td>\n",
       "      <td>168.50</td>\n",
       "      <td>2982</td>\n",
       "      <td>7</td>\n",
       "      <td>0.0</td>\n",
       "      <td>1.0</td>\n",
       "      <td>0.0</td>\n",
       "      <td>0.0</td>\n",
       "      <td>0.0</td>\n",
       "      <td>1.0</td>\n",
       "      <td>1.0</td>\n",
       "      <td>0.0</td>\n",
       "      <td>0.0</td>\n",
       "      <td>0.0</td>\n",
       "      <td>22000.0</td>\n",
       "    </tr>\n",
       "    <tr>\n",
       "      <th>2</th>\n",
       "      <td>28888</td>\n",
       "      <td>10.00</td>\n",
       "      <td>157.70</td>\n",
       "      <td>2496</td>\n",
       "      <td>5</td>\n",
       "      <td>0.0</td>\n",
       "      <td>0.0</td>\n",
       "      <td>0.0</td>\n",
       "      <td>1.0</td>\n",
       "      <td>1.0</td>\n",
       "      <td>0.0</td>\n",
       "      <td>1.0</td>\n",
       "      <td>0.0</td>\n",
       "      <td>0.0</td>\n",
       "      <td>0.0</td>\n",
       "      <td>7560.0</td>\n",
       "    </tr>\n",
       "    <tr>\n",
       "      <th>3</th>\n",
       "      <td>41000</td>\n",
       "      <td>16.47</td>\n",
       "      <td>73.90</td>\n",
       "      <td>1198</td>\n",
       "      <td>5</td>\n",
       "      <td>0.0</td>\n",
       "      <td>0.0</td>\n",
       "      <td>0.0</td>\n",
       "      <td>1.0</td>\n",
       "      <td>0.0</td>\n",
       "      <td>1.0</td>\n",
       "      <td>1.0</td>\n",
       "      <td>0.0</td>\n",
       "      <td>0.0</td>\n",
       "      <td>0.0</td>\n",
       "      <td>3100.0</td>\n",
       "    </tr>\n",
       "    <tr>\n",
       "      <th>4</th>\n",
       "      <td>52000</td>\n",
       "      <td>15.68</td>\n",
       "      <td>177.00</td>\n",
       "      <td>1999</td>\n",
       "      <td>5</td>\n",
       "      <td>0.0</td>\n",
       "      <td>1.0</td>\n",
       "      <td>0.0</td>\n",
       "      <td>0.0</td>\n",
       "      <td>1.0</td>\n",
       "      <td>0.0</td>\n",
       "      <td>1.0</td>\n",
       "      <td>0.0</td>\n",
       "      <td>0.0</td>\n",
       "      <td>0.0</td>\n",
       "      <td>42000.0</td>\n",
       "    </tr>\n",
       "    <tr>\n",
       "      <th>...</th>\n",
       "      <td>...</td>\n",
       "      <td>...</td>\n",
       "      <td>...</td>\n",
       "      <td>...</td>\n",
       "      <td>...</td>\n",
       "      <td>...</td>\n",
       "      <td>...</td>\n",
       "      <td>...</td>\n",
       "      <td>...</td>\n",
       "      <td>...</td>\n",
       "      <td>...</td>\n",
       "      <td>...</td>\n",
       "      <td>...</td>\n",
       "      <td>...</td>\n",
       "      <td>...</td>\n",
       "      <td>...</td>\n",
       "    </tr>\n",
       "    <tr>\n",
       "      <th>4902</th>\n",
       "      <td>250000</td>\n",
       "      <td>12.99</td>\n",
       "      <td>100.60</td>\n",
       "      <td>2494</td>\n",
       "      <td>8</td>\n",
       "      <td>0.0</td>\n",
       "      <td>1.0</td>\n",
       "      <td>0.0</td>\n",
       "      <td>0.0</td>\n",
       "      <td>0.0</td>\n",
       "      <td>1.0</td>\n",
       "      <td>0.0</td>\n",
       "      <td>1.0</td>\n",
       "      <td>0.0</td>\n",
       "      <td>0.0</td>\n",
       "      <td>7900.0</td>\n",
       "    </tr>\n",
       "    <tr>\n",
       "      <th>4903</th>\n",
       "      <td>38000</td>\n",
       "      <td>14.84</td>\n",
       "      <td>170.00</td>\n",
       "      <td>2143</td>\n",
       "      <td>5</td>\n",
       "      <td>0.0</td>\n",
       "      <td>1.0</td>\n",
       "      <td>0.0</td>\n",
       "      <td>0.0</td>\n",
       "      <td>1.0</td>\n",
       "      <td>0.0</td>\n",
       "      <td>1.0</td>\n",
       "      <td>0.0</td>\n",
       "      <td>0.0</td>\n",
       "      <td>0.0</td>\n",
       "      <td>13510.0</td>\n",
       "    </tr>\n",
       "    <tr>\n",
       "      <th>4904</th>\n",
       "      <td>40674</td>\n",
       "      <td>11.36</td>\n",
       "      <td>171.50</td>\n",
       "      <td>2755</td>\n",
       "      <td>7</td>\n",
       "      <td>0.0</td>\n",
       "      <td>1.0</td>\n",
       "      <td>0.0</td>\n",
       "      <td>0.0</td>\n",
       "      <td>1.0</td>\n",
       "      <td>0.0</td>\n",
       "      <td>1.0</td>\n",
       "      <td>0.0</td>\n",
       "      <td>0.0</td>\n",
       "      <td>0.0</td>\n",
       "      <td>24820.0</td>\n",
       "    </tr>\n",
       "    <tr>\n",
       "      <th>4905</th>\n",
       "      <td>62505</td>\n",
       "      <td>17.40</td>\n",
       "      <td>117.30</td>\n",
       "      <td>1497</td>\n",
       "      <td>5</td>\n",
       "      <td>0.0</td>\n",
       "      <td>0.0</td>\n",
       "      <td>0.0</td>\n",
       "      <td>1.0</td>\n",
       "      <td>0.0</td>\n",
       "      <td>1.0</td>\n",
       "      <td>1.0</td>\n",
       "      <td>0.0</td>\n",
       "      <td>0.0</td>\n",
       "      <td>0.0</td>\n",
       "      <td>5950.0</td>\n",
       "    </tr>\n",
       "    <tr>\n",
       "      <th>4906</th>\n",
       "      <td>40000</td>\n",
       "      <td>20.40</td>\n",
       "      <td>81.80</td>\n",
       "      <td>1197</td>\n",
       "      <td>5</td>\n",
       "      <td>0.0</td>\n",
       "      <td>0.0</td>\n",
       "      <td>0.0</td>\n",
       "      <td>1.0</td>\n",
       "      <td>0.0</td>\n",
       "      <td>1.0</td>\n",
       "      <td>1.0</td>\n",
       "      <td>0.0</td>\n",
       "      <td>0.0</td>\n",
       "      <td>0.0</td>\n",
       "      <td>5900.0</td>\n",
       "    </tr>\n",
       "  </tbody>\n",
       "</table>\n",
       "<p>4907 rows × 16 columns</p>\n",
       "</div>"
      ],
      "text/plain": [
       "      Kilometers_Driven  Mileage   Power  Engine  Seats    0    1    2    3  \\\n",
       "0                 60000    19.81   68.05    1086      5  0.0  0.0  0.0  1.0   \n",
       "1                 73500    13.00  168.50    2982      7  0.0  1.0  0.0  0.0   \n",
       "2                 28888    10.00  157.70    2496      5  0.0  0.0  0.0  1.0   \n",
       "3                 41000    16.47   73.90    1198      5  0.0  0.0  0.0  1.0   \n",
       "4                 52000    15.68  177.00    1999      5  0.0  1.0  0.0  0.0   \n",
       "...                 ...      ...     ...     ...    ...  ...  ...  ...  ...   \n",
       "4902             250000    12.99  100.60    2494      8  0.0  1.0  0.0  0.0   \n",
       "4903              38000    14.84  170.00    2143      5  0.0  1.0  0.0  0.0   \n",
       "4904              40674    11.36  171.50    2755      7  0.0  1.0  0.0  0.0   \n",
       "4905              62505    17.40  117.30    1497      5  0.0  0.0  0.0  1.0   \n",
       "4906              40000    20.40   81.80    1197      5  0.0  0.0  0.0  1.0   \n",
       "\n",
       "        4    5    6    7    8    9    Price  \n",
       "0     0.0  1.0  0.0  1.0  0.0  0.0   2650.0  \n",
       "1     0.0  1.0  1.0  0.0  0.0  0.0  22000.0  \n",
       "2     1.0  0.0  1.0  0.0  0.0  0.0   7560.0  \n",
       "3     0.0  1.0  1.0  0.0  0.0  0.0   3100.0  \n",
       "4     1.0  0.0  1.0  0.0  0.0  0.0  42000.0  \n",
       "...   ...  ...  ...  ...  ...  ...      ...  \n",
       "4902  0.0  1.0  0.0  1.0  0.0  0.0   7900.0  \n",
       "4903  1.0  0.0  1.0  0.0  0.0  0.0  13510.0  \n",
       "4904  1.0  0.0  1.0  0.0  0.0  0.0  24820.0  \n",
       "4905  0.0  1.0  1.0  0.0  0.0  0.0   5950.0  \n",
       "4906  0.0  1.0  1.0  0.0  0.0  0.0   5900.0  \n",
       "\n",
       "[4907 rows x 16 columns]"
      ]
     },
     "execution_count": 34,
     "metadata": {},
     "output_type": "execute_result"
    }
   ],
   "source": [
    "model_ready_data"
   ]
  }
 ],
 "metadata": {
  "kernelspec": {
   "display_name": "Python 3",
   "language": "python",
   "name": "python3"
  },
  "language_info": {
   "codemirror_mode": {
    "name": "ipython",
    "version": 3
   },
   "file_extension": ".py",
   "mimetype": "text/x-python",
   "name": "python",
   "nbconvert_exporter": "python",
   "pygments_lexer": "ipython3",
   "version": "3.8.11"
  }
 },
 "nbformat": 4,
 "nbformat_minor": 5
}
